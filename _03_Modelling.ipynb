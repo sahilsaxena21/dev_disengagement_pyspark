{
  "nbformat": 4,
  "nbformat_minor": 0,
  "metadata": {
    "kernelspec": {
      "display_name": "Python 3",
      "language": "python",
      "name": "python3"
    },
    "language_info": {
      "codemirror_mode": {
        "name": "ipython",
        "version": 3
      },
      "file_extension": ".py",
      "mimetype": "text/x-python",
      "name": "python",
      "nbconvert_exporter": "python",
      "pygments_lexer": "ipython3",
      "version": "3.7.3"
    },
    "colab": {
      "name": "_03_Modelling.ipynb",
      "provenance": [],
      "collapsed_sections": []
    }
  },
  "cells": [
    {
      "cell_type": "markdown",
      "metadata": {
        "id": "E77Q2Qx8cKyP"
      },
      "source": [
        "# 03 Modelling - GitHub Developer Engagement"
      ]
    },
    {
      "cell_type": "markdown",
      "metadata": {
        "id": "UwHQExE6cKyS"
      },
      "source": [
        "### Import Libraries"
      ]
    },
    {
      "cell_type": "code",
      "metadata": {
        "scrolled": true,
        "id": "eObVbhdmcKyU"
      },
      "source": [
        "import os\n",
        "os.environ[\"HADOOP_HOME\"] = \"S:/Courses/MIE1512/Material/Spark/winutils/\"\n",
        "os.environ[\"JAVA_HOME\"] = \"C:/progra~2/Java/jdk1.8.0_221/\"\n",
        "os.environ[\"JRE_HOME\"] = \"C:/progra~2/Java/jdk1.8.0_221/jre/\""
      ],
      "execution_count": null,
      "outputs": []
    },
    {
      "cell_type": "code",
      "metadata": {
        "scrolled": true,
        "id": "xjY7OsZLcKyV"
      },
      "source": [
        "import findspark\n",
        "findspark.init(\"S:/Courses/MIE1512/Material/Spark/spark-2.3.2-bin-hadoop2.7/\")\n",
        "\n",
        "import pyspark\n",
        "sc = pyspark.SparkContext(appName=\"myAppName\")\n",
        "spark = pyspark.sql.SQLContext(sc)"
      ],
      "execution_count": null,
      "outputs": []
    },
    {
      "cell_type": "code",
      "metadata": {
        "scrolled": true,
        "id": "QICnMNT_cKyW"
      },
      "source": [
        "import pyspark.sql.types as T \n",
        "import pyspark.sql.functions as F\n",
        "import seaborn as sns"
      ],
      "execution_count": null,
      "outputs": []
    },
    {
      "cell_type": "code",
      "metadata": {
        "scrolled": true,
        "id": "24a6UwiXcKyX"
      },
      "source": [
        "from pyspark.sql.functions import udf\n",
        "from pyspark.sql.types import *"
      ],
      "execution_count": null,
      "outputs": []
    },
    {
      "cell_type": "code",
      "metadata": {
        "scrolled": true,
        "id": "zlri0JEdcKyX"
      },
      "source": [
        "from pyspark.ml.classification import LogisticRegression, RandomForestClassifier, LinearSVC\n",
        "from pyspark.ml.clustering import KMeans\n",
        "from pyspark.ml.feature import OneHotEncoderEstimator, StringIndexer, VectorAssembler\n",
        "from pyspark.ml import Pipeline\n",
        "from pyspark.ml.evaluation import BinaryClassificationEvaluator, ClusteringEvaluator\n",
        "from pyspark.ml.tuning import ParamGridBuilder, CrossValidator\n",
        "\n",
        "import matplotlib.pyplot as plt\n",
        "import numpy as np\n",
        "\n",
        "%matplotlib inline"
      ],
      "execution_count": null,
      "outputs": []
    },
    {
      "cell_type": "code",
      "metadata": {
        "scrolled": true,
        "id": "HTOYVYFicKyY"
      },
      "source": [
        "from pyspark.ml.classification import LogisticRegression, RandomForestClassifier\n",
        "from pyspark.ml.clustering import KMeans\n",
        "from pyspark.ml.feature import OneHotEncoderEstimator, StringIndexer, VectorAssembler\n",
        "from pyspark.ml import Pipeline\n",
        "from pyspark.ml.evaluation import BinaryClassificationEvaluator, ClusteringEvaluator\n",
        "from pyspark.ml.tuning import ParamGridBuilder, CrossValidator"
      ],
      "execution_count": null,
      "outputs": []
    },
    {
      "cell_type": "markdown",
      "metadata": {
        "id": "kOO-Q6vAcKyY"
      },
      "source": [
        "# Read the Full CSV"
      ]
    },
    {
      "cell_type": "code",
      "metadata": {
        "id": "9b1eJtFxcKyZ"
      },
      "source": [
        "#load each table csv\n",
        "all_table = spark.read.csv(\"full_df.csv\",\n",
        "                           header=True,\n",
        "                           inferSchema=True)"
      ],
      "execution_count": null,
      "outputs": []
    },
    {
      "cell_type": "code",
      "metadata": {
        "id": "FJgfTsXOcKyZ",
        "outputId": "82b0b693-e1b2-43cd-fd28-8e3f434d29d6"
      },
      "source": [
        "all_table.columns"
      ],
      "execution_count": null,
      "outputs": [
        {
          "output_type": "execute_result",
          "data": {
            "text/plain": [
              "['_c0',\n",
              " 'ID',\n",
              " 'committer_name',\n",
              " 'committer_timestamp',\n",
              " 'repo_names',\n",
              " 'repo_org',\n",
              " 'no_change_periods',\n",
              " 'tot_repo_comm_absent',\n",
              " 'total_repo_comm_new',\n",
              " 'agg_absent_periods',\n",
              " 'new_ppl_periods',\n",
              " 'avg_multi_ratio',\n",
              " 'y']"
            ]
          },
          "metadata": {
            "tags": []
          },
          "execution_count": 16
        }
      ]
    },
    {
      "cell_type": "code",
      "metadata": {
        "id": "B5BB1gY6cKya"
      },
      "source": [
        "#there is a _c0 column which looks questionable. Delete this col and inspect preview of all_table_14 to verify join.\n",
        "all_table_1 = all_table.select([c for c in all_table.columns if c not in \n",
        "                                    {\"ID\", \"committer_name\", \"committer_timestamp\", \n",
        "                                       \"repo_names\",\"repo_org\", \"first_commit\", \"_c0\"\n",
        "                                    }])"
      ],
      "execution_count": null,
      "outputs": []
    },
    {
      "cell_type": "code",
      "metadata": {
        "id": "Y9nTAOpqcKya",
        "outputId": "f134a691-f4ab-487a-b261-c7dfdd688ddf"
      },
      "source": [
        "all_table_1.columns"
      ],
      "execution_count": null,
      "outputs": [
        {
          "output_type": "execute_result",
          "data": {
            "text/plain": [
              "['no_change_periods',\n",
              " 'tot_repo_comm_absent',\n",
              " 'total_repo_comm_new',\n",
              " 'agg_absent_periods',\n",
              " 'new_ppl_periods',\n",
              " 'avg_multi_ratio',\n",
              " 'y']"
            ]
          },
          "metadata": {
            "tags": []
          },
          "execution_count": 17
        }
      ]
    },
    {
      "cell_type": "code",
      "metadata": {
        "id": "55CdrD5fcKyb",
        "outputId": "6a3338d0-870e-4e69-8db6-f1b9fdfd9cb6"
      },
      "source": [
        "#looks good\n",
        "all_table_1.limit(5).toPandas()"
      ],
      "execution_count": null,
      "outputs": [
        {
          "output_type": "execute_result",
          "data": {
            "text/html": [
              "<div>\n",
              "<style scoped>\n",
              "    .dataframe tbody tr th:only-of-type {\n",
              "        vertical-align: middle;\n",
              "    }\n",
              "\n",
              "    .dataframe tbody tr th {\n",
              "        vertical-align: top;\n",
              "    }\n",
              "\n",
              "    .dataframe thead th {\n",
              "        text-align: right;\n",
              "    }\n",
              "</style>\n",
              "<table border=\"1\" class=\"dataframe\">\n",
              "  <thead>\n",
              "    <tr style=\"text-align: right;\">\n",
              "      <th></th>\n",
              "      <th>no_change_periods</th>\n",
              "      <th>tot_repo_comm_absent</th>\n",
              "      <th>total_repo_comm_new</th>\n",
              "      <th>agg_absent_periods</th>\n",
              "      <th>new_ppl_periods</th>\n",
              "      <th>avg_multi_ratio</th>\n",
              "      <th>y</th>\n",
              "    </tr>\n",
              "  </thead>\n",
              "  <tbody>\n",
              "    <tr>\n",
              "      <th>0</th>\n",
              "      <td>0</td>\n",
              "      <td>19</td>\n",
              "      <td>7</td>\n",
              "      <td>5</td>\n",
              "      <td>3</td>\n",
              "      <td>0.166667</td>\n",
              "      <td>disengaged</td>\n",
              "    </tr>\n",
              "    <tr>\n",
              "      <th>1</th>\n",
              "      <td>0</td>\n",
              "      <td>61</td>\n",
              "      <td>29</td>\n",
              "      <td>5</td>\n",
              "      <td>5</td>\n",
              "      <td>0.500000</td>\n",
              "      <td>disengaged</td>\n",
              "    </tr>\n",
              "    <tr>\n",
              "      <th>2</th>\n",
              "      <td>0</td>\n",
              "      <td>61</td>\n",
              "      <td>29</td>\n",
              "      <td>5</td>\n",
              "      <td>5</td>\n",
              "      <td>0.500000</td>\n",
              "      <td>disengaged</td>\n",
              "    </tr>\n",
              "    <tr>\n",
              "      <th>3</th>\n",
              "      <td>0</td>\n",
              "      <td>61</td>\n",
              "      <td>29</td>\n",
              "      <td>5</td>\n",
              "      <td>5</td>\n",
              "      <td>0.500000</td>\n",
              "      <td>disengaged</td>\n",
              "    </tr>\n",
              "    <tr>\n",
              "      <th>4</th>\n",
              "      <td>0</td>\n",
              "      <td>61</td>\n",
              "      <td>29</td>\n",
              "      <td>5</td>\n",
              "      <td>5</td>\n",
              "      <td>0.500000</td>\n",
              "      <td>disengaged</td>\n",
              "    </tr>\n",
              "  </tbody>\n",
              "</table>\n",
              "</div>"
            ],
            "text/plain": [
              "   no_change_periods  tot_repo_comm_absent  total_repo_comm_new  \\\n",
              "0                  0                    19                    7   \n",
              "1                  0                    61                   29   \n",
              "2                  0                    61                   29   \n",
              "3                  0                    61                   29   \n",
              "4                  0                    61                   29   \n",
              "\n",
              "   agg_absent_periods  new_ppl_periods  avg_multi_ratio           y  \n",
              "0                   5                3         0.166667  disengaged  \n",
              "1                   5                5         0.500000  disengaged  \n",
              "2                   5                5         0.500000  disengaged  \n",
              "3                   5                5         0.500000  disengaged  \n",
              "4                   5                5         0.500000  disengaged  "
            ]
          },
          "metadata": {
            "tags": []
          },
          "execution_count": 18
        }
      ]
    },
    {
      "cell_type": "markdown",
      "metadata": {
        "id": "8IureauUcKyb"
      },
      "source": [
        "# MODELLING"
      ]
    },
    {
      "cell_type": "code",
      "metadata": {
        "scrolled": true,
        "id": "alto66u1cKyc"
      },
      "source": [
        "numericCols = ['no_change_periods',\n",
        " 'tot_repo_comm_absent',\n",
        " 'total_repo_comm_new',\n",
        " 'agg_absent_periods',\n",
        " 'new_ppl_periods',\n",
        " 'avg_multi_ratio']"
      ],
      "execution_count": null,
      "outputs": []
    },
    {
      "cell_type": "code",
      "metadata": {
        "id": "98_p23VrcKyc"
      },
      "source": [
        "stages = []\n",
        "\n",
        "label_stringIdx = StringIndexer(inputCol = 'y', outputCol = 'label')\n",
        "stages += [label_stringIdx]\n",
        "\n",
        "assemblerInputs = numericCols\n",
        "assembler = VectorAssembler(inputCols=assemblerInputs, outputCol=\"features\")\n",
        "stages += [assembler]"
      ],
      "execution_count": null,
      "outputs": []
    },
    {
      "cell_type": "code",
      "metadata": {
        "scrolled": true,
        "id": "rlI2uBgBcKyd",
        "outputId": "a0472076-aa51-4d93-ee47-1fe5c23d6663"
      },
      "source": [
        "stages"
      ],
      "execution_count": null,
      "outputs": [
        {
          "output_type": "execute_result",
          "data": {
            "text/plain": [
              "[StringIndexer_4eeab5fde6995d5e6717, VectorAssembler_4c85aa3d6af6ca5a5958]"
            ]
          },
          "metadata": {
            "tags": []
          },
          "execution_count": 23
        }
      ]
    },
    {
      "cell_type": "code",
      "metadata": {
        "scrolled": true,
        "id": "dULGQTmXcKye"
      },
      "source": [
        "pipeline = Pipeline(stages = stages)\n",
        "pipelineModel = pipeline.fit(all_table_1)\n"
      ],
      "execution_count": null,
      "outputs": []
    },
    {
      "cell_type": "code",
      "metadata": {
        "id": "iAbauQvdcKye"
      },
      "source": [
        "all_data_transformed = pipelineModel.transform(all_table_1)"
      ],
      "execution_count": null,
      "outputs": []
    },
    {
      "cell_type": "code",
      "metadata": {
        "id": "Qzq1BWHhcKyf"
      },
      "source": [
        "selectedCols = ['label', 'features']\n",
        "all_data_transformed = all_data_transformed.select(selectedCols)"
      ],
      "execution_count": null,
      "outputs": []
    },
    {
      "cell_type": "code",
      "metadata": {
        "scrolled": true,
        "id": "uAblWGlBcKyf"
      },
      "source": [
        "train, test = all_data_transformed.randomSplit([0.7, 0.3], seed = 1000)"
      ],
      "execution_count": null,
      "outputs": []
    },
    {
      "cell_type": "code",
      "metadata": {
        "scrolled": true,
        "id": "nZezOPswcKyf",
        "outputId": "381517da-feed-4b10-cf3a-86e9bcb4dbb6"
      },
      "source": [
        "# train.count(), test.count()"
      ],
      "execution_count": null,
      "outputs": [
        {
          "output_type": "execute_result",
          "data": {
            "text/plain": [
              "(733710, 314826)"
            ]
          },
          "metadata": {
            "tags": []
          },
          "execution_count": 29
        }
      ]
    },
    {
      "cell_type": "markdown",
      "metadata": {
        "id": "AAZUGM3JcKyg"
      },
      "source": [
        "# Logistic Regression Model"
      ]
    },
    {
      "cell_type": "code",
      "metadata": {
        "id": "pOQoXqVkcKyg"
      },
      "source": [
        "lr = LogisticRegression(featuresCol = 'features', labelCol = 'label', maxIter=10)\n",
        "lrModel = lr.fit(train)"
      ],
      "execution_count": null,
      "outputs": []
    },
    {
      "cell_type": "code",
      "metadata": {
        "id": "jwJpCqMIcKyg",
        "outputId": "80028981-d81a-4bf1-c10b-c0f60a6d1c45"
      },
      "source": [
        "predictions = lrModel.transform(test)\n",
        "evaluator = BinaryClassificationEvaluator().setMetricName(\"areaUnderROC\")\n",
        "evaluator.evaluate(predictions)"
      ],
      "execution_count": null,
      "outputs": [
        {
          "output_type": "execute_result",
          "data": {
            "text/plain": [
              "0.5283711630876493"
            ]
          },
          "metadata": {
            "tags": []
          },
          "execution_count": 31
        }
      ]
    }
  ]
}