{
  "nbformat": 4,
  "nbformat_minor": 0,
  "metadata": {
    "colab": {
      "name": "_02_Exploration.ipynb",
      "provenance": [],
      "collapsed_sections": [],
      "toc_visible": true
    },
    "kernelspec": {
      "name": "python3",
      "display_name": "Python 3"
    }
  },
  "cells": [
    {
      "cell_type": "markdown",
      "metadata": {
        "id": "WLIShRtJdCIL"
      },
      "source": [
        "# 02 Exploration - GitHub Developer Engagement"
      ]
    },
    {
      "cell_type": "markdown",
      "metadata": {
        "id": "8O-Jp_x7hAPU"
      },
      "source": [
        "### Import Libraries"
      ]
    },
    {
      "cell_type": "code",
      "metadata": {
        "id": "7JDNF0PTCgX8",
        "colab": {
          "base_uri": "https://localhost:8080/",
          "height": 285
        },
        "outputId": "3034ecef-0ea9-4277-8a37-451b449b76fb"
      },
      "source": [
        "#Plot\n",
        "import matplotlib.pyplot as plt\n",
        "import seaborn as sns\n",
        "%matplotlib inline\n",
        "\n",
        "#Heatmap\n",
        "!pip install heatmapz\n",
        "from heatmap import heatmap, corrplot\n",
        "\n",
        "#Data Packages\n",
        "import math\n",
        "import pandas\n",
        "import numpy as np\n",
        "\n",
        "#pandas\n",
        "import pandas as pd\n",
        "import numpy as np\n",
        "\n",
        "pd.options.mode.chained_assignment = None\n",
        "pd.options.display.max_columns = 999\n",
        "pd.options.display.max_rows = 999"
      ],
      "execution_count": null,
      "outputs": [
        {
          "output_type": "stream",
          "text": [
            "/usr/local/lib/python3.6/dist-packages/statsmodels/tools/_testing.py:19: FutureWarning: pandas.util.testing is deprecated. Use the functions in the public API at pandas.testing instead.\n",
            "  import pandas.util.testing as tm\n"
          ],
          "name": "stderr"
        },
        {
          "output_type": "stream",
          "text": [
            "[nltk_data] Downloading package vader_lexicon to /root/nltk_data...\n",
            "[nltk_data]   Package vader_lexicon is already up-to-date!\n",
            "[nltk_data] Downloading package stopwords to /root/nltk_data...\n",
            "[nltk_data]   Package stopwords is already up-to-date!\n",
            "[nltk_data] Downloading package averaged_perceptron_tagger to\n",
            "[nltk_data]     /root/nltk_data...\n",
            "[nltk_data]   Package averaged_perceptron_tagger is already up-to-\n",
            "[nltk_data]       date!\n",
            "[nltk_data] Downloading package wordnet to /root/nltk_data...\n",
            "[nltk_data]   Package wordnet is already up-to-date!\n"
          ],
          "name": "stdout"
        },
        {
          "output_type": "stream",
          "text": [
            "/usr/local/lib/python3.6/dist-packages/nltk/twitter/__init__.py:20: UserWarning: The twython library has not been installed. Some functionality from the twitter package will not be available.\n",
            "  warnings.warn(\"The twython library has not been installed. \"\n"
          ],
          "name": "stderr"
        }
      ]
    },
    {
      "cell_type": "markdown",
      "metadata": {
        "id": "tyMhxofbgOdo"
      },
      "source": [
        "### Load each CSV"
      ]
    },
    {
      "cell_type": "code",
      "metadata": {
        "id": "nBT5QMxBnMM6"
      },
      "source": [
        "#load each table csv\n",
        "all_table_1 = pd.read_csv(\"all_table_1.csv\")\n",
        "spark_repos_4 = pd.read_csv(\"spark_repos_4.csv\")\n",
        "spark_repos_5 = pd.read_csv(\"spark_repos_5.csv\")\n",
        "spark_repos_6 = pd.read_csv(\"spark_repos_6.csv\")\n",
        "spark_repos_7 = pd.read_csv(\"spark_repos_7.csv\")\n",
        "spark_repos_8 = pd.read_csv(\"spark_repos_8.csv\")\n",
        "spark_repos_9 = pd.read_csv(\"spark_repos_9.csv\")\n",
        "spark_repos_10 = pd.read_csv(\"spark_repos_10.csv\")\n",
        "spark_repos_11 = pd.read_csv(\"spark_repos_11.csv\")\n",
        "spark_repos_12 = pd.read_csv(\"spark_repos_12.csv\")\n",
        "spark_repos_13 = pd.read_csv(\"spark_repos_13.csv\")\n",
        "spark_repos_14 = pd.read_csv(\"spark_repos_14.csv\")\n",
        "spark_repos_15 = pd.read_csv(\"spark_repos_15.csv\")"
      ],
      "execution_count": null,
      "outputs": []
    },
    {
      "cell_type": "code",
      "metadata": {
        "id": "eQr9YrbtqepP"
      },
      "source": [
        "all_table_1.drop(\"Unnamed: 0\", inplace = True, axis = 1)\n",
        "all_table_1.reset_index(drop = True, inplace = True)\n",
        "\n",
        "spark_repos_4.drop(\"Unnamed: 0\", inplace = True, axis = 1)\n",
        "spark_repos_4.reset_index(drop = True, inplace = True)\n",
        "\n",
        "spark_repos_5.drop(\"Unnamed: 0\", inplace = True, axis = 1)\n",
        "spark_repos_5.reset_index(drop = True, inplace = True)\n",
        "\n",
        "spark_repos_6.drop(\"Unnamed: 0\", inplace = True, axis = 1)\n",
        "spark_repos_6.reset_index(drop = True, inplace = True)\n",
        "\n",
        "spark_repos_7.drop(\"Unnamed: 0\", inplace = True, axis = 1)\n",
        "spark_repos_7.reset_index(drop = True, inplace = True)\n",
        "\n",
        "spark_repos_8.drop(\"Unnamed: 0\", inplace = True, axis = 1)\n",
        "spark_repos_8.reset_index(drop = True, inplace = True)\n",
        "\n",
        "spark_repos_9.drop(\"Unnamed: 0\", inplace = True, axis = 1)\n",
        "spark_repos_9.reset_index(drop = True, inplace = True)\n",
        "\n",
        "spark_repos_10.drop(\"Unnamed: 0\", inplace = True, axis = 1)\n",
        "spark_repos_10.reset_index(drop = True, inplace = True)\n",
        "\n",
        "spark_repos_11.drop(\"Unnamed: 0\", inplace = True, axis = 1)\n",
        "spark_repos_11.reset_index(drop = True, inplace = True)\n",
        "\n",
        "spark_repos_12.drop(\"Unnamed: 0\", inplace = True, axis = 1)\n",
        "spark_repos_12.reset_index(drop = True, inplace = True)\n",
        "\n",
        "spark_repos_13.drop(\"Unnamed: 0\", inplace = True, axis = 1)\n",
        "spark_repos_13.reset_index(drop = True, inplace = True)\n",
        "\n",
        "spark_repos_14.drop(\"Unnamed: 0\", inplace = True, axis = 1)\n",
        "spark_repos_14.reset_index(drop = True, inplace = True)\n",
        "\n",
        "spark_repos_15.drop(\"Unnamed: 0\", inplace = True, axis = 1)\n",
        "spark_repos_15.reset_index(drop = True, inplace = True)\n"
      ],
      "execution_count": null,
      "outputs": []
    },
    {
      "cell_type": "markdown",
      "metadata": {
        "id": "_KYbt-mSgTCM"
      },
      "source": [
        "## Join Tables"
      ]
    },
    {
      "cell_type": "code",
      "metadata": {
        "id": "anvvcb1kp7k6"
      },
      "source": [
        "all_table_2 = pd.merge(all_table_1, spark_repos_4, left_on=[\"ID\", \"committer_name\", \"committer_timestamp\",\n",
        "                                                 \"repo_names\",  \"repo_org\",  \"first_commit\" ],\n",
        "                       right_on=[\"ID\", \"committer_name\", \"committer_timestamp\",\n",
        "                                                 \"repo_names\",  \"repo_org\",  \"first_commit\" ], how=\"inner\")"
      ],
      "execution_count": null,
      "outputs": []
    },
    {
      "cell_type": "code",
      "metadata": {
        "id": "lOD4JzVb6TDg",
        "colab": {
          "base_uri": "https://localhost:8080/",
          "height": 34
        },
        "outputId": "67f2123a-49a7-4faa-849d-4e802adb2ded"
      },
      "source": [
        "all_table_2.shape"
      ],
      "execution_count": null,
      "outputs": [
        {
          "output_type": "execute_result",
          "data": {
            "text/plain": [
              "(1048536, 17)"
            ]
          },
          "metadata": {
            "tags": []
          },
          "execution_count": 6
        }
      ]
    },
    {
      "cell_type": "code",
      "metadata": {
        "id": "17kQK5SBCpYM"
      },
      "source": [
        "all_table_3 = pd.merge(all_table_2, spark_repos_5, left_on=[\"ID\", \"committer_name\", \"committer_timestamp\",\n",
        "                                                 \"repo_names\",  \"repo_org\",  \"first_commit\" ],\n",
        "                       right_on=[\"ID\", \"committer_name\", \"committer_timestamp\",\n",
        "                                                 \"repo_names\",  \"repo_org\",  \"first_commit\" ], how=\"inner\")\n"
      ],
      "execution_count": null,
      "outputs": []
    },
    {
      "cell_type": "code",
      "metadata": {
        "id": "4YACMqz8CpaZ"
      },
      "source": [
        "all_table_4 = pd.merge(all_table_3, spark_repos_6, left_on=[\"ID\", \"committer_name\", \"committer_timestamp\",\n",
        "                                                 \"repo_names\",  \"repo_org\",  \"first_commit\" ],\n",
        "                       right_on=[\"ID\", \"committer_name\", \"committer_timestamp\",\n",
        "                                                 \"repo_names\",  \"repo_org\",  \"first_commit\" ], how=\"inner\")"
      ],
      "execution_count": null,
      "outputs": []
    },
    {
      "cell_type": "code",
      "metadata": {
        "id": "pGzPWtertUHi",
        "colab": {
          "base_uri": "https://localhost:8080/",
          "height": 34
        },
        "outputId": "a0a4b7a1-4852-49ae-fbe7-b7a8deb3a435"
      },
      "source": [
        "all_table_4.shape"
      ],
      "execution_count": null,
      "outputs": [
        {
          "output_type": "execute_result",
          "data": {
            "text/plain": [
              "(1048536, 28)"
            ]
          },
          "metadata": {
            "tags": []
          },
          "execution_count": 9
        }
      ]
    },
    {
      "cell_type": "code",
      "metadata": {
        "id": "m1JaNot6ComF"
      },
      "source": [
        "all_table_5 = pd.merge(all_table_4, spark_repos_7, left_on=[\"ID\", \"committer_name\", \"committer_timestamp\",\n",
        "                                                 \"repo_names\",  \"repo_org\",  \"first_commit\" ],\n",
        "                       right_on=[\"ID\", \"committer_name\", \"committer_timestamp\",\n",
        "                                                 \"repo_names\",  \"repo_org\",  \"first_commit\" ], how=\"inner\")"
      ],
      "execution_count": null,
      "outputs": []
    },
    {
      "cell_type": "code",
      "metadata": {
        "id": "YRqCJtbLtsdz",
        "colab": {
          "base_uri": "https://localhost:8080/",
          "height": 34
        },
        "outputId": "a5fb4991-115d-487a-cd8a-9155e0837b60"
      },
      "source": [
        "all_table_5.shape"
      ],
      "execution_count": null,
      "outputs": [
        {
          "output_type": "execute_result",
          "data": {
            "text/plain": [
              "(1048536, 29)"
            ]
          },
          "metadata": {
            "tags": []
          },
          "execution_count": 11
        }
      ]
    },
    {
      "cell_type": "code",
      "metadata": {
        "id": "EXYzFDWyoiJy"
      },
      "source": [
        "all_table_6 = pd.merge(all_table_5, spark_repos_8, left_on=[\"ID\", \"committer_name\", \"committer_timestamp\",\n",
        "                                                 \"repo_names\",  \"repo_org\",  \"first_commit\" ],\n",
        "                       right_on=[\"ID\", \"committer_name\", \"committer_timestamp\",\n",
        "                                                 \"repo_names\",  \"repo_org\",  \"first_commit\" ], how=\"inner\")"
      ],
      "execution_count": null,
      "outputs": []
    },
    {
      "cell_type": "code",
      "metadata": {
        "id": "Y97vPqSItvPm",
        "colab": {
          "base_uri": "https://localhost:8080/",
          "height": 34
        },
        "outputId": "cdc9f3ae-b9a6-4bba-93eb-dfe6b553aa5d"
      },
      "source": [
        "all_table_6.shape"
      ],
      "execution_count": null,
      "outputs": [
        {
          "output_type": "execute_result",
          "data": {
            "text/plain": [
              "(1048536, 30)"
            ]
          },
          "metadata": {
            "tags": []
          },
          "execution_count": 13
        }
      ]
    },
    {
      "cell_type": "code",
      "metadata": {
        "id": "oss48-QVoiMM"
      },
      "source": [
        "all_table_7 = pd.merge(all_table_6, spark_repos_9, left_on=[\"ID\", \"committer_name\", \"committer_timestamp\",\n",
        "                                                 \"repo_names\",  \"repo_org\",  \"first_commit\" ],\n",
        "                       right_on=[\"ID\", \"committer_name\", \"committer_timestamp\",\n",
        "                                                 \"repo_names\",  \"repo_org\",  \"first_commit\" ], how=\"inner\")"
      ],
      "execution_count": null,
      "outputs": []
    },
    {
      "cell_type": "code",
      "metadata": {
        "id": "95Y7VUnht0cG",
        "colab": {
          "base_uri": "https://localhost:8080/",
          "height": 34
        },
        "outputId": "7ea8b9cf-8986-461a-be82-4e0efb381428"
      },
      "source": [
        "all_table_7.shape"
      ],
      "execution_count": null,
      "outputs": [
        {
          "output_type": "execute_result",
          "data": {
            "text/plain": [
              "(1048536, 31)"
            ]
          },
          "metadata": {
            "tags": []
          },
          "execution_count": 15
        }
      ]
    },
    {
      "cell_type": "code",
      "metadata": {
        "id": "SLPgmqwwoiOq"
      },
      "source": [
        "all_table_8 = pd.merge(all_table_7, spark_repos_10, left_on=[\"ID\", \"committer_name\", \"committer_timestamp\",\n",
        "                                                 \"repo_names\",  \"repo_org\",  \"first_commit\" ],\n",
        "                       right_on=[\"ID\", \"committer_name\", \"committer_timestamp\",\n",
        "                                                 \"repo_names\",  \"repo_org\",  \"first_commit\" ], how=\"inner\")"
      ],
      "execution_count": null,
      "outputs": []
    },
    {
      "cell_type": "code",
      "metadata": {
        "id": "ua0Ubuwu6XRU",
        "colab": {
          "base_uri": "https://localhost:8080/",
          "height": 34
        },
        "outputId": "63bc7150-0fcf-4f8e-b21c-a6c105dfe4d4"
      },
      "source": [
        "all_table_8.shape"
      ],
      "execution_count": null,
      "outputs": [
        {
          "output_type": "execute_result",
          "data": {
            "text/plain": [
              "(1048536, 32)"
            ]
          },
          "metadata": {
            "tags": []
          },
          "execution_count": 17
        }
      ]
    },
    {
      "cell_type": "code",
      "metadata": {
        "id": "65pca2HW6wB6",
        "colab": {
          "base_uri": "https://localhost:8080/",
          "height": 34
        },
        "outputId": "37540671-59ba-4e53-80e1-372e8347ef97"
      },
      "source": [
        "spark_repos_11.shape"
      ],
      "execution_count": null,
      "outputs": [
        {
          "output_type": "execute_result",
          "data": {
            "text/plain": [
              "(1048536, 12)"
            ]
          },
          "metadata": {
            "tags": []
          },
          "execution_count": 18
        }
      ]
    },
    {
      "cell_type": "code",
      "metadata": {
        "id": "mkqPLk3ioiRV"
      },
      "source": [
        "all_table_9 = pd.merge(all_table_8, spark_repos_11, left_on=[\"ID\", \"committer_name\", \"committer_timestamp\",\n",
        "                                                 \"repo_names\",  \"repo_org\",  \"first_commit\" ],\n",
        "                       right_on=[\"ID\", \"committer_name\", \"committer_timestamp\",\n",
        "                                                 \"repo_names\",  \"repo_org\",  \"first_commit\" ], how=\"inner\")"
      ],
      "execution_count": null,
      "outputs": []
    },
    {
      "cell_type": "code",
      "metadata": {
        "id": "My7Set5J6YGx",
        "colab": {
          "base_uri": "https://localhost:8080/",
          "height": 34
        },
        "outputId": "f5995dda-f031-4130-e55b-b03f59bb4e04"
      },
      "source": [
        "all_table_9.shape"
      ],
      "execution_count": null,
      "outputs": [
        {
          "output_type": "execute_result",
          "data": {
            "text/plain": [
              "(1048536, 38)"
            ]
          },
          "metadata": {
            "tags": []
          },
          "execution_count": 20
        }
      ]
    },
    {
      "cell_type": "code",
      "metadata": {
        "id": "ccALfDldoiTw"
      },
      "source": [
        "all_table_10 = pd.merge(all_table_9, spark_repos_12, left_on=[\"ID\", \"committer_name\", \"committer_timestamp\",\n",
        "                                                 \"repo_names\",  \"repo_org\",  \"first_commit\" ],\n",
        "                       right_on=[\"ID\", \"committer_name\", \"committer_timestamp\",\n",
        "                                                 \"repo_names\",  \"repo_org\",  \"first_commit\" ], how=\"inner\")"
      ],
      "execution_count": null,
      "outputs": []
    },
    {
      "cell_type": "code",
      "metadata": {
        "id": "gaAjLQRe6Y1-",
        "colab": {
          "base_uri": "https://localhost:8080/",
          "height": 34
        },
        "outputId": "89cc3a75-d420-4200-af66-d99b9cb853e2"
      },
      "source": [
        "all_table_10.shape"
      ],
      "execution_count": null,
      "outputs": [
        {
          "output_type": "execute_result",
          "data": {
            "text/plain": [
              "(1048536, 44)"
            ]
          },
          "metadata": {
            "tags": []
          },
          "execution_count": 22
        }
      ]
    },
    {
      "cell_type": "code",
      "metadata": {
        "id": "95bBvO6NoiYn"
      },
      "source": [
        "all_table_11 = pd.merge(all_table_10, spark_repos_13, left_on=[\"ID\", \"committer_name\", \"committer_timestamp\",\n",
        "                                                 \"repo_names\",  \"repo_org\",  \"first_commit\" ],\n",
        "                       right_on=[\"ID\", \"committer_name\", \"committer_timestamp\",\n",
        "                                                 \"repo_names\",  \"repo_org\",  \"first_commit\" ], how=\"inner\")"
      ],
      "execution_count": null,
      "outputs": []
    },
    {
      "cell_type": "code",
      "metadata": {
        "id": "jKItESFW6Zmw",
        "colab": {
          "base_uri": "https://localhost:8080/",
          "height": 34
        },
        "outputId": "982823b0-bfc3-440d-ef55-9393a3e788e7"
      },
      "source": [
        "all_table_11.shape"
      ],
      "execution_count": null,
      "outputs": [
        {
          "output_type": "execute_result",
          "data": {
            "text/plain": [
              "(1048536, 44)"
            ]
          },
          "metadata": {
            "tags": []
          },
          "execution_count": 24
        }
      ]
    },
    {
      "cell_type": "code",
      "metadata": {
        "id": "zjy1wDaToibO"
      },
      "source": [
        "all_table_12 = pd.merge(all_table_11, spark_repos_14, left_on=[\"ID\", \"committer_name\", \"committer_timestamp\",\n",
        "                                                 \"repo_names\",  \"repo_org\",  \"first_commit\" ],\n",
        "                       right_on=[\"ID\", \"committer_name\", \"committer_timestamp\",\n",
        "                                                 \"repo_names\",  \"repo_org\",  \"first_commit\" ], how=\"inner\")"
      ],
      "execution_count": null,
      "outputs": []
    },
    {
      "cell_type": "code",
      "metadata": {
        "id": "yxTe2-Ki6aKz",
        "colab": {
          "base_uri": "https://localhost:8080/",
          "height": 34
        },
        "outputId": "154256d2-f0ea-49cc-c9c2-ea7f7a7aa20f"
      },
      "source": [
        "all_table_12.shape"
      ],
      "execution_count": null,
      "outputs": [
        {
          "output_type": "execute_result",
          "data": {
            "text/plain": [
              "(1048536, 45)"
            ]
          },
          "metadata": {
            "tags": []
          },
          "execution_count": 26
        }
      ]
    },
    {
      "cell_type": "code",
      "metadata": {
        "id": "YI2yaKWboigX"
      },
      "source": [
        "all_table_13 = pd.merge(all_table_12, spark_repos_15, left_on=[\"ID\", \"committer_name\", \"committer_timestamp\",\n",
        "                                                 \"repo_names\",  \"repo_org\",  \"first_commit\" ],\n",
        "                       right_on=[\"ID\", \"committer_name\", \"committer_timestamp\",\n",
        "                                                 \"repo_names\",  \"repo_org\",  \"first_commit\" ], how=\"inner\")"
      ],
      "execution_count": null,
      "outputs": []
    },
    {
      "cell_type": "code",
      "metadata": {
        "id": "tEvHIGSy6ayn",
        "colab": {
          "base_uri": "https://localhost:8080/",
          "height": 34
        },
        "outputId": "1d56aa40-a106-4642-f8cd-7472b064e679"
      },
      "source": [
        "all_table_13.shape"
      ],
      "execution_count": null,
      "outputs": [
        {
          "output_type": "execute_result",
          "data": {
            "text/plain": [
              "(1048536, 46)"
            ]
          },
          "metadata": {
            "tags": []
          },
          "execution_count": 28
        }
      ]
    },
    {
      "cell_type": "code",
      "metadata": {
        "id": "fe3PF5Cyoikb"
      },
      "source": [
        "df = all_table_13.copy()"
      ],
      "execution_count": null,
      "outputs": []
    },
    {
      "cell_type": "code",
      "metadata": {
        "id": "7s-A9Wxjoimt",
        "colab": {
          "base_uri": "https://localhost:8080/",
          "height": 34
        },
        "outputId": "ce06646f-1547-4d55-a015-dac1341583d7"
      },
      "source": [
        "df.shape"
      ],
      "execution_count": null,
      "outputs": [
        {
          "output_type": "execute_result",
          "data": {
            "text/plain": [
              "(1048536, 46)"
            ]
          },
          "metadata": {
            "tags": []
          },
          "execution_count": 30
        }
      ]
    },
    {
      "cell_type": "code",
      "metadata": {
        "id": "vcaKFS9pxdoh",
        "colab": {
          "base_uri": "https://localhost:8080/",
          "height": 384
        },
        "outputId": "7f71f2a4-f03f-4c85-b197-eb65835cb545"
      },
      "source": [
        "df.head()"
      ],
      "execution_count": null,
      "outputs": [
        {
          "output_type": "execute_result",
          "data": {
            "text/html": [
              "<div>\n",
              "<style scoped>\n",
              "    .dataframe tbody tr th:only-of-type {\n",
              "        vertical-align: middle;\n",
              "    }\n",
              "\n",
              "    .dataframe tbody tr th {\n",
              "        vertical-align: top;\n",
              "    }\n",
              "\n",
              "    .dataframe thead th {\n",
              "        text-align: right;\n",
              "    }\n",
              "</style>\n",
              "<table border=\"1\" class=\"dataframe\">\n",
              "  <thead>\n",
              "    <tr style=\"text-align: right;\">\n",
              "      <th></th>\n",
              "      <th>ID</th>\n",
              "      <th>committer_name</th>\n",
              "      <th>committer_timestamp</th>\n",
              "      <th>repo_names</th>\n",
              "      <th>repo_org</th>\n",
              "      <th>first_commit</th>\n",
              "      <th>P1_no_change_periods_x</th>\n",
              "      <th>P2_no_change_periods_x</th>\n",
              "      <th>P3_no_change_periods_x</th>\n",
              "      <th>P4_no_change_periods_x</th>\n",
              "      <th>P5_no_change_periods_x</th>\n",
              "      <th>no_change_periods_x</th>\n",
              "      <th>P1_repo_comm_absent</th>\n",
              "      <th>P2_repo_comm_absent</th>\n",
              "      <th>P3_repo_comm_absent</th>\n",
              "      <th>P4_repo_comm_absent</th>\n",
              "      <th>P5_repo_comm_absent</th>\n",
              "      <th>P1_repo_comm_new</th>\n",
              "      <th>P2_repo_comm_new</th>\n",
              "      <th>P3_repo_comm_new</th>\n",
              "      <th>P4_repo_comm_new</th>\n",
              "      <th>P5_repo_comm_new</th>\n",
              "      <th>P1_repo_committers</th>\n",
              "      <th>P2_repo_committers</th>\n",
              "      <th>P3_repo_committers</th>\n",
              "      <th>P4_repo_committers</th>\n",
              "      <th>P5_repo_committers</th>\n",
              "      <th>P6_repo_committers</th>\n",
              "      <th>tot_repo_comm_absent</th>\n",
              "      <th>total_repo_comm_new</th>\n",
              "      <th>agg_absent_periods</th>\n",
              "      <th>new_ppl_periods</th>\n",
              "      <th>P1_no_change_periods_y</th>\n",
              "      <th>P2_no_change_periods_y</th>\n",
              "      <th>P3_no_change_periods_y</th>\n",
              "      <th>P4_no_change_periods_y</th>\n",
              "      <th>P5_no_change_periods_y</th>\n",
              "      <th>no_change_periods_y</th>\n",
              "      <th>P1_multi_ratio</th>\n",
              "      <th>P2_multi_ratio</th>\n",
              "      <th>P3_multi_ratio</th>\n",
              "      <th>P4_multi_ratio</th>\n",
              "      <th>P5_multi_ratio</th>\n",
              "      <th>P6_multi_ratio</th>\n",
              "      <th>avg_multi_ratio</th>\n",
              "      <th>y</th>\n",
              "    </tr>\n",
              "  </thead>\n",
              "  <tbody>\n",
              "    <tr>\n",
              "      <th>0</th>\n",
              "      <td>1</td>\n",
              "      <td>\"Erik \"\"Ealanrian\"\" Jansman\"</td>\n",
              "      <td>2016-07-11 08:38:37</td>\n",
              "      <td>apache/celix</td>\n",
              "      <td>apache</td>\n",
              "      <td>2016-07-11 08:38:37</td>\n",
              "      <td>0</td>\n",
              "      <td>0</td>\n",
              "      <td>0</td>\n",
              "      <td>0</td>\n",
              "      <td>0</td>\n",
              "      <td>0</td>\n",
              "      <td>10</td>\n",
              "      <td>1</td>\n",
              "      <td>4</td>\n",
              "      <td>3</td>\n",
              "      <td>1</td>\n",
              "      <td>0</td>\n",
              "      <td>3</td>\n",
              "      <td>0</td>\n",
              "      <td>1</td>\n",
              "      <td>3</td>\n",
              "      <td>16</td>\n",
              "      <td>6</td>\n",
              "      <td>8</td>\n",
              "      <td>4</td>\n",
              "      <td>2</td>\n",
              "      <td>4</td>\n",
              "      <td>19</td>\n",
              "      <td>7</td>\n",
              "      <td>5</td>\n",
              "      <td>3</td>\n",
              "      <td>0</td>\n",
              "      <td>0</td>\n",
              "      <td>0</td>\n",
              "      <td>0</td>\n",
              "      <td>0</td>\n",
              "      <td>0</td>\n",
              "      <td>1.0</td>\n",
              "      <td>0.0</td>\n",
              "      <td>0.0</td>\n",
              "      <td>0.0</td>\n",
              "      <td>0.0</td>\n",
              "      <td>0.0</td>\n",
              "      <td>0.166667</td>\n",
              "      <td>disengaged</td>\n",
              "    </tr>\n",
              "    <tr>\n",
              "      <th>1</th>\n",
              "      <td>2</td>\n",
              "      <td>\"James \"\"Chuck\"\" Williams\"</td>\n",
              "      <td>2006-06-08 22:38:37</td>\n",
              "      <td>apache/axis2-java</td>\n",
              "      <td>apache</td>\n",
              "      <td>2006-06-08 22:38:37</td>\n",
              "      <td>0</td>\n",
              "      <td>0</td>\n",
              "      <td>0</td>\n",
              "      <td>0</td>\n",
              "      <td>0</td>\n",
              "      <td>0</td>\n",
              "      <td>26</td>\n",
              "      <td>8</td>\n",
              "      <td>7</td>\n",
              "      <td>10</td>\n",
              "      <td>10</td>\n",
              "      <td>2</td>\n",
              "      <td>6</td>\n",
              "      <td>15</td>\n",
              "      <td>3</td>\n",
              "      <td>3</td>\n",
              "      <td>57</td>\n",
              "      <td>33</td>\n",
              "      <td>31</td>\n",
              "      <td>39</td>\n",
              "      <td>32</td>\n",
              "      <td>25</td>\n",
              "      <td>61</td>\n",
              "      <td>29</td>\n",
              "      <td>5</td>\n",
              "      <td>5</td>\n",
              "      <td>0</td>\n",
              "      <td>0</td>\n",
              "      <td>0</td>\n",
              "      <td>0</td>\n",
              "      <td>0</td>\n",
              "      <td>0</td>\n",
              "      <td>1.0</td>\n",
              "      <td>0.0</td>\n",
              "      <td>0.0</td>\n",
              "      <td>1.0</td>\n",
              "      <td>1.0</td>\n",
              "      <td>0.0</td>\n",
              "      <td>0.500000</td>\n",
              "      <td>disengaged</td>\n",
              "    </tr>\n",
              "    <tr>\n",
              "      <th>2</th>\n",
              "      <td>3</td>\n",
              "      <td>\"James \"\"Chuck\"\" Williams\"</td>\n",
              "      <td>2006-06-09 20:56:06</td>\n",
              "      <td>apache/axis2-java</td>\n",
              "      <td>apache</td>\n",
              "      <td>2006-06-08 22:38:37</td>\n",
              "      <td>0</td>\n",
              "      <td>0</td>\n",
              "      <td>0</td>\n",
              "      <td>0</td>\n",
              "      <td>0</td>\n",
              "      <td>0</td>\n",
              "      <td>26</td>\n",
              "      <td>8</td>\n",
              "      <td>7</td>\n",
              "      <td>10</td>\n",
              "      <td>10</td>\n",
              "      <td>2</td>\n",
              "      <td>6</td>\n",
              "      <td>15</td>\n",
              "      <td>3</td>\n",
              "      <td>3</td>\n",
              "      <td>57</td>\n",
              "      <td>33</td>\n",
              "      <td>31</td>\n",
              "      <td>39</td>\n",
              "      <td>32</td>\n",
              "      <td>25</td>\n",
              "      <td>61</td>\n",
              "      <td>29</td>\n",
              "      <td>5</td>\n",
              "      <td>5</td>\n",
              "      <td>0</td>\n",
              "      <td>0</td>\n",
              "      <td>0</td>\n",
              "      <td>0</td>\n",
              "      <td>0</td>\n",
              "      <td>0</td>\n",
              "      <td>1.0</td>\n",
              "      <td>0.0</td>\n",
              "      <td>0.0</td>\n",
              "      <td>1.0</td>\n",
              "      <td>1.0</td>\n",
              "      <td>0.0</td>\n",
              "      <td>0.500000</td>\n",
              "      <td>disengaged</td>\n",
              "    </tr>\n",
              "    <tr>\n",
              "      <th>3</th>\n",
              "      <td>4</td>\n",
              "      <td>\"James \"\"Chuck\"\" Williams\"</td>\n",
              "      <td>2006-06-11 09:26:08</td>\n",
              "      <td>apache/axis2-java</td>\n",
              "      <td>apache</td>\n",
              "      <td>2006-06-08 22:38:37</td>\n",
              "      <td>0</td>\n",
              "      <td>0</td>\n",
              "      <td>0</td>\n",
              "      <td>0</td>\n",
              "      <td>0</td>\n",
              "      <td>0</td>\n",
              "      <td>26</td>\n",
              "      <td>8</td>\n",
              "      <td>7</td>\n",
              "      <td>10</td>\n",
              "      <td>10</td>\n",
              "      <td>2</td>\n",
              "      <td>6</td>\n",
              "      <td>15</td>\n",
              "      <td>3</td>\n",
              "      <td>3</td>\n",
              "      <td>57</td>\n",
              "      <td>33</td>\n",
              "      <td>31</td>\n",
              "      <td>39</td>\n",
              "      <td>32</td>\n",
              "      <td>25</td>\n",
              "      <td>61</td>\n",
              "      <td>29</td>\n",
              "      <td>5</td>\n",
              "      <td>5</td>\n",
              "      <td>0</td>\n",
              "      <td>0</td>\n",
              "      <td>0</td>\n",
              "      <td>0</td>\n",
              "      <td>0</td>\n",
              "      <td>0</td>\n",
              "      <td>1.0</td>\n",
              "      <td>0.0</td>\n",
              "      <td>0.0</td>\n",
              "      <td>1.0</td>\n",
              "      <td>1.0</td>\n",
              "      <td>0.0</td>\n",
              "      <td>0.500000</td>\n",
              "      <td>disengaged</td>\n",
              "    </tr>\n",
              "    <tr>\n",
              "      <th>4</th>\n",
              "      <td>5</td>\n",
              "      <td>\"James \"\"Chuck\"\" Williams\"</td>\n",
              "      <td>2006-06-16 02:30:47</td>\n",
              "      <td>apache/axis2-java</td>\n",
              "      <td>apache</td>\n",
              "      <td>2006-06-08 22:38:37</td>\n",
              "      <td>0</td>\n",
              "      <td>0</td>\n",
              "      <td>0</td>\n",
              "      <td>0</td>\n",
              "      <td>0</td>\n",
              "      <td>0</td>\n",
              "      <td>26</td>\n",
              "      <td>8</td>\n",
              "      <td>7</td>\n",
              "      <td>10</td>\n",
              "      <td>10</td>\n",
              "      <td>2</td>\n",
              "      <td>6</td>\n",
              "      <td>15</td>\n",
              "      <td>3</td>\n",
              "      <td>3</td>\n",
              "      <td>57</td>\n",
              "      <td>33</td>\n",
              "      <td>31</td>\n",
              "      <td>39</td>\n",
              "      <td>32</td>\n",
              "      <td>25</td>\n",
              "      <td>61</td>\n",
              "      <td>29</td>\n",
              "      <td>5</td>\n",
              "      <td>5</td>\n",
              "      <td>0</td>\n",
              "      <td>0</td>\n",
              "      <td>0</td>\n",
              "      <td>0</td>\n",
              "      <td>0</td>\n",
              "      <td>0</td>\n",
              "      <td>1.0</td>\n",
              "      <td>0.0</td>\n",
              "      <td>0.0</td>\n",
              "      <td>1.0</td>\n",
              "      <td>1.0</td>\n",
              "      <td>0.0</td>\n",
              "      <td>0.500000</td>\n",
              "      <td>disengaged</td>\n",
              "    </tr>\n",
              "  </tbody>\n",
              "</table>\n",
              "</div>"
            ],
            "text/plain": [
              "   ID                committer_name  committer_timestamp         repo_names  \\\n",
              "0   1  \"Erik \"\"Ealanrian\"\" Jansman\"  2016-07-11 08:38:37       apache/celix   \n",
              "1   2    \"James \"\"Chuck\"\" Williams\"  2006-06-08 22:38:37  apache/axis2-java   \n",
              "2   3    \"James \"\"Chuck\"\" Williams\"  2006-06-09 20:56:06  apache/axis2-java   \n",
              "3   4    \"James \"\"Chuck\"\" Williams\"  2006-06-11 09:26:08  apache/axis2-java   \n",
              "4   5    \"James \"\"Chuck\"\" Williams\"  2006-06-16 02:30:47  apache/axis2-java   \n",
              "\n",
              "  repo_org         first_commit  P1_no_change_periods_x  \\\n",
              "0   apache  2016-07-11 08:38:37                       0   \n",
              "1   apache  2006-06-08 22:38:37                       0   \n",
              "2   apache  2006-06-08 22:38:37                       0   \n",
              "3   apache  2006-06-08 22:38:37                       0   \n",
              "4   apache  2006-06-08 22:38:37                       0   \n",
              "\n",
              "   P2_no_change_periods_x  P3_no_change_periods_x  P4_no_change_periods_x  \\\n",
              "0                       0                       0                       0   \n",
              "1                       0                       0                       0   \n",
              "2                       0                       0                       0   \n",
              "3                       0                       0                       0   \n",
              "4                       0                       0                       0   \n",
              "\n",
              "   P5_no_change_periods_x  no_change_periods_x  P1_repo_comm_absent  \\\n",
              "0                       0                    0                   10   \n",
              "1                       0                    0                   26   \n",
              "2                       0                    0                   26   \n",
              "3                       0                    0                   26   \n",
              "4                       0                    0                   26   \n",
              "\n",
              "   P2_repo_comm_absent  P3_repo_comm_absent  P4_repo_comm_absent  \\\n",
              "0                    1                    4                    3   \n",
              "1                    8                    7                   10   \n",
              "2                    8                    7                   10   \n",
              "3                    8                    7                   10   \n",
              "4                    8                    7                   10   \n",
              "\n",
              "   P5_repo_comm_absent  P1_repo_comm_new  P2_repo_comm_new  P3_repo_comm_new  \\\n",
              "0                    1                 0                 3                 0   \n",
              "1                   10                 2                 6                15   \n",
              "2                   10                 2                 6                15   \n",
              "3                   10                 2                 6                15   \n",
              "4                   10                 2                 6                15   \n",
              "\n",
              "   P4_repo_comm_new  P5_repo_comm_new  P1_repo_committers  P2_repo_committers  \\\n",
              "0                 1                 3                  16                   6   \n",
              "1                 3                 3                  57                  33   \n",
              "2                 3                 3                  57                  33   \n",
              "3                 3                 3                  57                  33   \n",
              "4                 3                 3                  57                  33   \n",
              "\n",
              "   P3_repo_committers  P4_repo_committers  P5_repo_committers  \\\n",
              "0                   8                   4                   2   \n",
              "1                  31                  39                  32   \n",
              "2                  31                  39                  32   \n",
              "3                  31                  39                  32   \n",
              "4                  31                  39                  32   \n",
              "\n",
              "   P6_repo_committers  tot_repo_comm_absent  total_repo_comm_new  \\\n",
              "0                   4                    19                    7   \n",
              "1                  25                    61                   29   \n",
              "2                  25                    61                   29   \n",
              "3                  25                    61                   29   \n",
              "4                  25                    61                   29   \n",
              "\n",
              "   agg_absent_periods  new_ppl_periods  P1_no_change_periods_y  \\\n",
              "0                   5                3                       0   \n",
              "1                   5                5                       0   \n",
              "2                   5                5                       0   \n",
              "3                   5                5                       0   \n",
              "4                   5                5                       0   \n",
              "\n",
              "   P2_no_change_periods_y  P3_no_change_periods_y  P4_no_change_periods_y  \\\n",
              "0                       0                       0                       0   \n",
              "1                       0                       0                       0   \n",
              "2                       0                       0                       0   \n",
              "3                       0                       0                       0   \n",
              "4                       0                       0                       0   \n",
              "\n",
              "   P5_no_change_periods_y  no_change_periods_y  P1_multi_ratio  \\\n",
              "0                       0                    0             1.0   \n",
              "1                       0                    0             1.0   \n",
              "2                       0                    0             1.0   \n",
              "3                       0                    0             1.0   \n",
              "4                       0                    0             1.0   \n",
              "\n",
              "   P2_multi_ratio  P3_multi_ratio  P4_multi_ratio  P5_multi_ratio  \\\n",
              "0             0.0             0.0             0.0             0.0   \n",
              "1             0.0             0.0             1.0             1.0   \n",
              "2             0.0             0.0             1.0             1.0   \n",
              "3             0.0             0.0             1.0             1.0   \n",
              "4             0.0             0.0             1.0             1.0   \n",
              "\n",
              "   P6_multi_ratio  avg_multi_ratio           y  \n",
              "0             0.0         0.166667  disengaged  \n",
              "1             0.0         0.500000  disengaged  \n",
              "2             0.0         0.500000  disengaged  \n",
              "3             0.0         0.500000  disengaged  \n",
              "4             0.0         0.500000  disengaged  "
            ]
          },
          "metadata": {
            "tags": []
          },
          "execution_count": 31
        }
      ]
    },
    {
      "cell_type": "code",
      "metadata": {
        "id": "br9B1RP4oion",
        "colab": {
          "base_uri": "https://localhost:8080/",
          "height": 301
        },
        "outputId": "fbe7f267-0583-4acd-ad22-052ae6a078cb"
      },
      "source": [
        "df.columns"
      ],
      "execution_count": null,
      "outputs": [
        {
          "output_type": "execute_result",
          "data": {
            "text/plain": [
              "Index(['ID', 'committer_name', 'committer_timestamp', 'repo_names', 'repo_org',\n",
              "       'first_commit', 'P1_no_change_periods_x', 'P2_no_change_periods_x',\n",
              "       'P3_no_change_periods_x', 'P4_no_change_periods_x',\n",
              "       'P5_no_change_periods_x', 'no_change_periods_x', 'P1_repo_comm_absent',\n",
              "       'P2_repo_comm_absent', 'P3_repo_comm_absent', 'P4_repo_comm_absent',\n",
              "       'P5_repo_comm_absent', 'P1_repo_comm_new', 'P2_repo_comm_new',\n",
              "       'P3_repo_comm_new', 'P4_repo_comm_new', 'P5_repo_comm_new',\n",
              "       'P1_repo_committers', 'P2_repo_committers', 'P3_repo_committers',\n",
              "       'P4_repo_committers', 'P5_repo_committers', 'P6_repo_committers',\n",
              "       'tot_repo_comm_absent', 'total_repo_comm_new', 'agg_absent_periods',\n",
              "       'new_ppl_periods', 'P1_no_change_periods_y', 'P2_no_change_periods_y',\n",
              "       'P3_no_change_periods_y', 'P4_no_change_periods_y',\n",
              "       'P5_no_change_periods_y', 'no_change_periods_y', 'P1_multi_ratio',\n",
              "       'P2_multi_ratio', 'P3_multi_ratio', 'P4_multi_ratio', 'P5_multi_ratio',\n",
              "       'P6_multi_ratio', 'avg_multi_ratio', 'y'],\n",
              "      dtype='object')"
            ]
          },
          "metadata": {
            "tags": []
          },
          "execution_count": 32
        }
      ]
    },
    {
      "cell_type": "code",
      "metadata": {
        "id": "Lu43lFA-wtm7"
      },
      "source": [
        "df.drop([\n",
        "       'first_commit', 'P1_no_change_periods_x', 'P2_no_change_periods_x',\n",
        "       'P3_no_change_periods_x', 'P4_no_change_periods_x',\n",
        "       'P5_no_change_periods_x', 'P1_repo_comm_absent',\n",
        "       'P2_repo_comm_absent', 'P3_repo_comm_absent', 'P4_repo_comm_absent',\n",
        "       'P5_repo_comm_absent', 'P1_repo_comm_new', 'P2_repo_comm_new',\n",
        "       'P3_repo_comm_new', 'P4_repo_comm_new', 'P5_repo_comm_new',\n",
        "       'P1_repo_committers', 'P2_repo_committers', 'P3_repo_committers',\n",
        "       'P4_repo_committers', 'P5_repo_committers', 'P6_repo_committers',\n",
        "       \n",
        "       'P1_no_change_periods_y', 'P2_no_change_periods_y',\n",
        "       'P3_no_change_periods_y', 'P4_no_change_periods_y',\n",
        "       'P5_no_change_periods_y', 'P1_multi_ratio',\n",
        "       'P2_multi_ratio', 'P3_multi_ratio', 'P4_multi_ratio', 'P5_multi_ratio',\n",
        "       'P6_multi_ratio', 'no_change_periods_y'], inplace = True, axis = 1)\n",
        "\n"
      ],
      "execution_count": null,
      "outputs": []
    },
    {
      "cell_type": "code",
      "metadata": {
        "id": "M-d_J6ghxfBK",
        "colab": {
          "base_uri": "https://localhost:8080/",
          "height": 34
        },
        "outputId": "4ba6f2d6-9e65-4aae-97f8-1ced0f6c8110"
      },
      "source": [
        "df.shape"
      ],
      "execution_count": null,
      "outputs": [
        {
          "output_type": "execute_result",
          "data": {
            "text/plain": [
              "(1048536, 12)"
            ]
          },
          "metadata": {
            "tags": []
          },
          "execution_count": 34
        }
      ]
    },
    {
      "cell_type": "code",
      "metadata": {
        "id": "Q9lr5f5Sx_Ft",
        "colab": {
          "base_uri": "https://localhost:8080/",
          "height": 87
        },
        "outputId": "73ed76b0-b2a6-4399-e346-3d702459bcd7"
      },
      "source": [
        "df.columns "
      ],
      "execution_count": null,
      "outputs": [
        {
          "output_type": "execute_result",
          "data": {
            "text/plain": [
              "Index(['ID', 'committer_name', 'committer_timestamp', 'repo_names', 'repo_org',\n",
              "       'no_change_periods_x', 'tot_repo_comm_absent', 'total_repo_comm_new',\n",
              "       'agg_absent_periods', 'new_ppl_periods', 'avg_multi_ratio', 'y'],\n",
              "      dtype='object')"
            ]
          },
          "metadata": {
            "tags": []
          },
          "execution_count": 35
        }
      ]
    },
    {
      "cell_type": "code",
      "metadata": {
        "id": "34fHXvIIyC8y"
      },
      "source": [
        "df.columns = ['ID', 'committer_name', 'committer_timestamp', 'repo_names', 'repo_org',\n",
        "       'no_change_periods', 'tot_repo_comm_absent', 'total_repo_comm_new',\n",
        "       'agg_absent_periods', 'new_ppl_periods', 'avg_multi_ratio', 'y']"
      ],
      "execution_count": null,
      "outputs": []
    },
    {
      "cell_type": "code",
      "metadata": {
        "id": "ZMMObQz_ymQe",
        "colab": {
          "base_uri": "https://localhost:8080/",
          "height": 87
        },
        "outputId": "909dab3d-fd97-43a3-cd31-f808bee57223"
      },
      "source": [
        "df.columns "
      ],
      "execution_count": null,
      "outputs": [
        {
          "output_type": "execute_result",
          "data": {
            "text/plain": [
              "Index(['ID', 'committer_name', 'committer_timestamp', 'repo_names', 'repo_org',\n",
              "       'no_change_periods', 'tot_repo_comm_absent', 'total_repo_comm_new',\n",
              "       'agg_absent_periods', 'new_ppl_periods', 'avg_multi_ratio', 'y'],\n",
              "      dtype='object')"
            ]
          },
          "metadata": {
            "tags": []
          },
          "execution_count": 37
        }
      ]
    },
    {
      "cell_type": "markdown",
      "metadata": {
        "id": "Pc9zzt2oxceo"
      },
      "source": [
        "## Code for Univariate Analysis\n",
        "\n",
        "Please refer to the ReadMe for intepretation of insights"
      ]
    },
    {
      "cell_type": "code",
      "metadata": {
        "id": "NFgOvf6ir6oK",
        "colab": {
          "base_uri": "https://localhost:8080/",
          "height": 287
        },
        "outputId": "ff69f5fa-f405-415e-b15a-aeb007b6e6f3"
      },
      "source": [
        "df.describe()"
      ],
      "execution_count": null,
      "outputs": [
        {
          "output_type": "execute_result",
          "data": {
            "text/html": [
              "<div>\n",
              "<style scoped>\n",
              "    .dataframe tbody tr th:only-of-type {\n",
              "        vertical-align: middle;\n",
              "    }\n",
              "\n",
              "    .dataframe tbody tr th {\n",
              "        vertical-align: top;\n",
              "    }\n",
              "\n",
              "    .dataframe thead th {\n",
              "        text-align: right;\n",
              "    }\n",
              "</style>\n",
              "<table border=\"1\" class=\"dataframe\">\n",
              "  <thead>\n",
              "    <tr style=\"text-align: right;\">\n",
              "      <th></th>\n",
              "      <th>ID</th>\n",
              "      <th>no_change_periods</th>\n",
              "      <th>tot_repo_comm_absent</th>\n",
              "      <th>total_repo_comm_new</th>\n",
              "      <th>agg_absent_periods</th>\n",
              "      <th>new_ppl_periods</th>\n",
              "      <th>avg_multi_ratio</th>\n",
              "    </tr>\n",
              "  </thead>\n",
              "  <tbody>\n",
              "    <tr>\n",
              "      <th>count</th>\n",
              "      <td>1.048536e+06</td>\n",
              "      <td>1.048536e+06</td>\n",
              "      <td>1.048536e+06</td>\n",
              "      <td>1.048536e+06</td>\n",
              "      <td>1.048536e+06</td>\n",
              "      <td>1.048536e+06</td>\n",
              "      <td>1.048536e+06</td>\n",
              "    </tr>\n",
              "    <tr>\n",
              "      <th>mean</th>\n",
              "      <td>5.242685e+05</td>\n",
              "      <td>1.363692e-01</td>\n",
              "      <td>7.117791e+01</td>\n",
              "      <td>1.872016e+01</td>\n",
              "      <td>4.620672e+00</td>\n",
              "      <td>3.878121e+00</td>\n",
              "      <td>5.875170e-01</td>\n",
              "    </tr>\n",
              "    <tr>\n",
              "      <th>std</th>\n",
              "      <td>3.026864e+05</td>\n",
              "      <td>5.942536e-01</td>\n",
              "      <td>7.997708e+01</td>\n",
              "      <td>1.629770e+01</td>\n",
              "      <td>8.330083e-01</td>\n",
              "      <td>9.449973e-01</td>\n",
              "      <td>3.979032e-01</td>\n",
              "    </tr>\n",
              "    <tr>\n",
              "      <th>min</th>\n",
              "      <td>1.000000e+00</td>\n",
              "      <td>0.000000e+00</td>\n",
              "      <td>0.000000e+00</td>\n",
              "      <td>0.000000e+00</td>\n",
              "      <td>0.000000e+00</td>\n",
              "      <td>0.000000e+00</td>\n",
              "      <td>0.000000e+00</td>\n",
              "    </tr>\n",
              "    <tr>\n",
              "      <th>25%</th>\n",
              "      <td>2.621348e+05</td>\n",
              "      <td>0.000000e+00</td>\n",
              "      <td>2.100000e+01</td>\n",
              "      <td>7.000000e+00</td>\n",
              "      <td>5.000000e+00</td>\n",
              "      <td>4.000000e+00</td>\n",
              "      <td>1.666667e-01</td>\n",
              "    </tr>\n",
              "    <tr>\n",
              "      <th>50%</th>\n",
              "      <td>5.242685e+05</td>\n",
              "      <td>0.000000e+00</td>\n",
              "      <td>4.100000e+01</td>\n",
              "      <td>1.400000e+01</td>\n",
              "      <td>5.000000e+00</td>\n",
              "      <td>4.000000e+00</td>\n",
              "      <td>6.666667e-01</td>\n",
              "    </tr>\n",
              "    <tr>\n",
              "      <th>75%</th>\n",
              "      <td>7.864022e+05</td>\n",
              "      <td>0.000000e+00</td>\n",
              "      <td>7.600000e+01</td>\n",
              "      <td>2.700000e+01</td>\n",
              "      <td>5.000000e+00</td>\n",
              "      <td>4.000000e+00</td>\n",
              "      <td>1.000000e+00</td>\n",
              "    </tr>\n",
              "    <tr>\n",
              "      <th>max</th>\n",
              "      <td>1.048536e+06</td>\n",
              "      <td>5.000000e+00</td>\n",
              "      <td>3.900000e+02</td>\n",
              "      <td>8.600000e+01</td>\n",
              "      <td>5.000000e+00</td>\n",
              "      <td>5.000000e+00</td>\n",
              "      <td>1.000000e+00</td>\n",
              "    </tr>\n",
              "  </tbody>\n",
              "</table>\n",
              "</div>"
            ],
            "text/plain": [
              "                 ID  no_change_periods  tot_repo_comm_absent  \\\n",
              "count  1.048536e+06       1.048536e+06          1.048536e+06   \n",
              "mean   5.242685e+05       1.363692e-01          7.117791e+01   \n",
              "std    3.026864e+05       5.942536e-01          7.997708e+01   \n",
              "min    1.000000e+00       0.000000e+00          0.000000e+00   \n",
              "25%    2.621348e+05       0.000000e+00          2.100000e+01   \n",
              "50%    5.242685e+05       0.000000e+00          4.100000e+01   \n",
              "75%    7.864022e+05       0.000000e+00          7.600000e+01   \n",
              "max    1.048536e+06       5.000000e+00          3.900000e+02   \n",
              "\n",
              "       total_repo_comm_new  agg_absent_periods  new_ppl_periods  \\\n",
              "count         1.048536e+06        1.048536e+06     1.048536e+06   \n",
              "mean          1.872016e+01        4.620672e+00     3.878121e+00   \n",
              "std           1.629770e+01        8.330083e-01     9.449973e-01   \n",
              "min           0.000000e+00        0.000000e+00     0.000000e+00   \n",
              "25%           7.000000e+00        5.000000e+00     4.000000e+00   \n",
              "50%           1.400000e+01        5.000000e+00     4.000000e+00   \n",
              "75%           2.700000e+01        5.000000e+00     4.000000e+00   \n",
              "max           8.600000e+01        5.000000e+00     5.000000e+00   \n",
              "\n",
              "       avg_multi_ratio  \n",
              "count     1.048536e+06  \n",
              "mean      5.875170e-01  \n",
              "std       3.979032e-01  \n",
              "min       0.000000e+00  \n",
              "25%       1.666667e-01  \n",
              "50%       6.666667e-01  \n",
              "75%       1.000000e+00  \n",
              "max       1.000000e+00  "
            ]
          },
          "metadata": {
            "tags": []
          },
          "execution_count": 38
        }
      ]
    },
    {
      "cell_type": "code",
      "metadata": {
        "id": "EXgi6fM4vMB-"
      },
      "source": [
        "c = df.corr().abs()"
      ],
      "execution_count": null,
      "outputs": []
    },
    {
      "cell_type": "code",
      "metadata": {
        "id": "Be-2Fo8BwAoW",
        "colab": {
          "base_uri": "https://localhost:8080/",
          "height": 34
        },
        "outputId": "f1b8bb5c-3c54-4bf8-869b-ad4f6a5f3074"
      },
      "source": [
        "s = c.unstack()\n",
        "so = s.sort_values(kind=\"quicksort\")\n",
        "x = so[(so>0.7) & (s!=1)]\n",
        "\n",
        "len(x)"
      ],
      "execution_count": null,
      "outputs": [
        {
          "output_type": "execute_result",
          "data": {
            "text/plain": [
              "4"
            ]
          },
          "metadata": {
            "tags": []
          },
          "execution_count": 40
        }
      ]
    },
    {
      "cell_type": "code",
      "metadata": {
        "id": "naM19b43Uh5b",
        "colab": {
          "base_uri": "https://localhost:8080/",
          "height": 247
        },
        "outputId": "971d48af-7e53-47ef-c065-ed01a30648f4"
      },
      "source": [
        "df.dtypes"
      ],
      "execution_count": null,
      "outputs": [
        {
          "output_type": "execute_result",
          "data": {
            "text/plain": [
              "ID                        int64\n",
              "committer_name           object\n",
              "committer_timestamp      object\n",
              "repo_names               object\n",
              "repo_org                 object\n",
              "no_change_periods         int64\n",
              "tot_repo_comm_absent      int64\n",
              "total_repo_comm_new       int64\n",
              "agg_absent_periods        int64\n",
              "new_ppl_periods           int64\n",
              "avg_multi_ratio         float64\n",
              "y                        object\n",
              "dtype: object"
            ]
          },
          "metadata": {
            "tags": []
          },
          "execution_count": 41
        }
      ]
    },
    {
      "cell_type": "code",
      "metadata": {
        "id": "BlKRSU6fT53b",
        "colab": {
          "base_uri": "https://localhost:8080/",
          "height": 1000
        },
        "outputId": "c00571a4-7ebb-43ed-d941-d2c9f1a98b04"
      },
      "source": [
        "for col in df.select_dtypes(exclude=['object']).columns.tolist():\n",
        "  df[col].hist()\n",
        "  plt.ylabel(\"Count\")\n",
        "  plt.xlabel(\"Value\")\n",
        "  plt.title(col)\n",
        "  plt.show()"
      ],
      "execution_count": null,
      "outputs": [
        {
          "output_type": "display_data",
          "data": {
            "image/png": "[encoded data removed]",
            "text/plain": [
              "<Figure size 432x288 with 1 Axes>"
            ]
          },
          "metadata": {
            "tags": [],
            "needs_background": "light"
          }
        },
        {
          "output_type": "display_data",
          "data": {
            "image/png": "[encoded data removed]",
            "text/plain": [
              "<Figure size 432x288 with 1 Axes>"
            ]
          },
          "metadata": {
            "tags": [],
            "needs_background": "light"
          }
        },
        {
          "output_type": "display_data",
          "data": {
            "image/png": "[encoded data removed]",
            "text/plain": [
              "<Figure size 432x288 with 1 Axes>"
            ]
          },
          "metadata": {
            "tags": [],
            "needs_background": "light"
          }
        },
        {
          "output_type": "display_data",
          "data": {
            "image/png": "[encoded data removed]",
            "text/plain": [
              "<Figure size 432x288 with 1 Axes>"
            ]
          },
          "metadata": {
            "tags": [],
            "needs_background": "light"
          }
        },
        {
          "output_type": "display_data",
          "data": {
            "image/png": "[encoded data removed]",
            "text/plain": [
              "<Figure size 432x288 with 1 Axes>"
            ]
          },
          "metadata": {
            "tags": [],
            "needs_background": "light"
          }
        },
        {
          "output_type": "display_data",
          "data": {
            "image/png": "[encoded data removed]",
            "text/plain": [
              "<Figure size 432x288 with 1 Axes>"
            ]
          },
          "metadata": {
            "tags": [],
            "needs_background": "light"
          }
        },
        {
          "output_type": "display_data",
          "data": {
            "image/png": "[encoded data removed]",
            "text/plain": [
              "<Figure size 432x288 with 1 Axes>"
            ]
          },
          "metadata": {
            "tags": [],
            "needs_background": "light"
          }
        }
      ]
    },
    {
      "cell_type": "code",
      "metadata": {
        "id": "QmCiESgyW-rY"
      },
      "source": [
        "cols = [\"tot_repo_comm_absent\", \"total_repo_comm_new\" , \"agg_absent_periods\", \"new_ppl_periods\", \"no_change_periods\"]"
      ],
      "execution_count": null,
      "outputs": []
    },
    {
      "cell_type": "code",
      "metadata": {
        "id": "nLsj_LS_aLGt",
        "colab": {
          "base_uri": "https://localhost:8080/",
          "height": 294
        },
        "outputId": "336688e4-80bc-4c41-bef0-e314b88e1cc7"
      },
      "source": [
        "x = df[df[\"avg_multi_ratio\"] <3]\n",
        "x[\"avg_multi_ratio\"].hist()\n",
        "plt.ylabel(\"Count\")\n",
        "plt.xlabel(\"Value\")\n",
        "plt.title(\"avg_multi_ratio\")\n",
        "plt.show()"
      ],
      "execution_count": null,
      "outputs": [
        {
          "output_type": "display_data",
          "data": {
            "image/png": "[encoded data removed]",
            "text/plain": [
              "<Figure size 432x288 with 1 Axes>"
            ]
          },
          "metadata": {
            "tags": [],
            "needs_background": "light"
          }
        }
      ]
    },
    {
      "cell_type": "code",
      "metadata": {
        "id": "xvCQkVT6XmiZ",
        "colab": {
          "base_uri": "https://localhost:8080/",
          "height": 34
        },
        "outputId": "50ed79a8-0c9c-4d33-87d1-33aa631ced77"
      },
      "source": [
        "arr = np.array(df[\"tot_repo_comm_absent\"].values)\n",
        "arr"
      ],
      "execution_count": null,
      "outputs": [
        {
          "output_type": "execute_result",
          "data": {
            "text/plain": [
              "array([19, 61, 61, ..., 90, 65, 65])"
            ]
          },
          "metadata": {
            "tags": []
          },
          "execution_count": 45
        }
      ]
    },
    {
      "cell_type": "code",
      "metadata": {
        "id": "okwEX7LMWvtq",
        "colab": {
          "base_uri": "https://localhost:8080/",
          "height": 1000
        },
        "outputId": "0cbe66ef-0c3a-4f42-a83a-1f96f99589a5"
      },
      "source": [
        "for col in cols:\n",
        "  arr = np.array(df[col].values)\n",
        "  labels, counts = np.unique(arr, return_counts=True)\n",
        "  plt.bar(labels, counts, align='center')\n",
        "  plt.ylabel(\"Count\")\n",
        "  plt.xlabel(\"Value\")\n",
        "  plt.title(col)\n",
        "  plt.show()"
      ],
      "execution_count": null,
      "outputs": [
        {
          "output_type": "display_data",
          "data": {
            "image/png": "[encoded data removed]",
            "text/plain": [
              "<Figure size 432x288 with 1 Axes>"
            ]
          },
          "metadata": {
            "tags": [],
            "needs_background": "light"
          }
        },
        {
          "output_type": "display_data",
          "data": {
            "image/png": "[encoded data removed]",
            "text/plain": [
              "<Figure size 432x288 with 1 Axes>"
            ]
          },
          "metadata": {
            "tags": [],
            "needs_background": "light"
          }
        },
        {
          "output_type": "display_data",
          "data": {
            "image/png": "[encoded data removed]",
            "text/plain": [
              "<Figure size 432x288 with 1 Axes>"
            ]
          },
          "metadata": {
            "tags": [],
            "needs_background": "light"
          }
        },
        {
          "output_type": "display_data",
          "data": {
            "image/png": "[encoded data removed]",
            "text/plain": [
              "<Figure size 432x288 with 1 Axes>"
            ]
          },
          "metadata": {
            "tags": [],
            "needs_background": "light"
          }
        },
        {
          "output_type": "display_data",
          "data": {
            "image/png": "[encoded data removed]",
            "text/plain": [
              "<Figure size 432x288 with 1 Axes>"
            ]
          },
          "metadata": {
            "tags": [],
            "needs_background": "light"
          }
        }
      ]
    },
    {
      "cell_type": "markdown",
      "metadata": {
        "id": "fiUIcpF4T6QQ"
      },
      "source": [
        "## Code for Bivariate Analysis\n",
        "\n",
        "\n",
        "Please refer to the ReadMe for intepretation of insights"
      ]
    },
    {
      "cell_type": "code",
      "metadata": {
        "id": "-_rh4L4L61lC",
        "colab": {
          "base_uri": "https://localhost:8080/",
          "height": 562
        },
        "outputId": "86cf0c38-394b-4c29-a999-b1a933a6b2ba"
      },
      "source": [
        "plt.figure(figsize=(8, 8))\n",
        "corrplot(df.corr(), size_scale=300);"
      ],
      "execution_count": null,
      "outputs": [
        {
          "output_type": "display_data",
          "data": {
            "image/png": "[encoded data removed]",
            "text/plain": [
              "<Figure size 576x576 with 2 Axes>"
            ]
          },
          "metadata": {
            "tags": [],
            "needs_background": "light"
          }
        }
      ]
    },
    {
      "cell_type": "code",
      "metadata": {
        "id": "eq5-qV_p5et_",
        "colab": {
          "base_uri": "https://localhost:8080/",
          "height": 257
        },
        "outputId": "ba549936-d4cb-4b28-c501-37d9a2c3984c"
      },
      "source": [
        "df.corr()"
      ],
      "execution_count": null,
      "outputs": [
        {
          "output_type": "execute_result",
          "data": {
            "text/html": [
              "<div>\n",
              "<style scoped>\n",
              "    .dataframe tbody tr th:only-of-type {\n",
              "        vertical-align: middle;\n",
              "    }\n",
              "\n",
              "    .dataframe tbody tr th {\n",
              "        vertical-align: top;\n",
              "    }\n",
              "\n",
              "    .dataframe thead th {\n",
              "        text-align: right;\n",
              "    }\n",
              "</style>\n",
              "<table border=\"1\" class=\"dataframe\">\n",
              "  <thead>\n",
              "    <tr style=\"text-align: right;\">\n",
              "      <th></th>\n",
              "      <th>ID</th>\n",
              "      <th>no_change_periods</th>\n",
              "      <th>tot_repo_comm_absent</th>\n",
              "      <th>total_repo_comm_new</th>\n",
              "      <th>agg_absent_periods</th>\n",
              "      <th>new_ppl_periods</th>\n",
              "      <th>avg_multi_ratio</th>\n",
              "    </tr>\n",
              "  </thead>\n",
              "  <tbody>\n",
              "    <tr>\n",
              "      <th>ID</th>\n",
              "      <td>1.000000</td>\n",
              "      <td>0.061046</td>\n",
              "      <td>-0.074776</td>\n",
              "      <td>-0.078011</td>\n",
              "      <td>-0.037840</td>\n",
              "      <td>-0.066486</td>\n",
              "      <td>-0.005215</td>\n",
              "    </tr>\n",
              "    <tr>\n",
              "      <th>no_change_periods</th>\n",
              "      <td>0.061046</td>\n",
              "      <td>1.000000</td>\n",
              "      <td>-0.191315</td>\n",
              "      <td>-0.241888</td>\n",
              "      <td>-0.790010</td>\n",
              "      <td>-0.674546</td>\n",
              "      <td>-0.105021</td>\n",
              "    </tr>\n",
              "    <tr>\n",
              "      <th>tot_repo_comm_absent</th>\n",
              "      <td>-0.074776</td>\n",
              "      <td>-0.191315</td>\n",
              "      <td>1.000000</td>\n",
              "      <td>0.906295</td>\n",
              "      <td>0.342801</td>\n",
              "      <td>0.255752</td>\n",
              "      <td>0.092222</td>\n",
              "    </tr>\n",
              "    <tr>\n",
              "      <th>total_repo_comm_new</th>\n",
              "      <td>-0.078011</td>\n",
              "      <td>-0.241888</td>\n",
              "      <td>0.906295</td>\n",
              "      <td>1.000000</td>\n",
              "      <td>0.412603</td>\n",
              "      <td>0.351329</td>\n",
              "      <td>0.097904</td>\n",
              "    </tr>\n",
              "    <tr>\n",
              "      <th>agg_absent_periods</th>\n",
              "      <td>-0.037840</td>\n",
              "      <td>-0.790010</td>\n",
              "      <td>0.342801</td>\n",
              "      <td>0.412603</td>\n",
              "      <td>1.000000</td>\n",
              "      <td>0.692484</td>\n",
              "      <td>0.226549</td>\n",
              "    </tr>\n",
              "    <tr>\n",
              "      <th>new_ppl_periods</th>\n",
              "      <td>-0.066486</td>\n",
              "      <td>-0.674546</td>\n",
              "      <td>0.255752</td>\n",
              "      <td>0.351329</td>\n",
              "      <td>0.692484</td>\n",
              "      <td>1.000000</td>\n",
              "      <td>0.102516</td>\n",
              "    </tr>\n",
              "    <tr>\n",
              "      <th>avg_multi_ratio</th>\n",
              "      <td>-0.005215</td>\n",
              "      <td>-0.105021</td>\n",
              "      <td>0.092222</td>\n",
              "      <td>0.097904</td>\n",
              "      <td>0.226549</td>\n",
              "      <td>0.102516</td>\n",
              "      <td>1.000000</td>\n",
              "    </tr>\n",
              "  </tbody>\n",
              "</table>\n",
              "</div>"
            ],
            "text/plain": [
              "                            ID  no_change_periods  tot_repo_comm_absent  \\\n",
              "ID                    1.000000           0.061046             -0.074776   \n",
              "no_change_periods     0.061046           1.000000             -0.191315   \n",
              "tot_repo_comm_absent -0.074776          -0.191315              1.000000   \n",
              "total_repo_comm_new  -0.078011          -0.241888              0.906295   \n",
              "agg_absent_periods   -0.037840          -0.790010              0.342801   \n",
              "new_ppl_periods      -0.066486          -0.674546              0.255752   \n",
              "avg_multi_ratio      -0.005215          -0.105021              0.092222   \n",
              "\n",
              "                      total_repo_comm_new  agg_absent_periods  \\\n",
              "ID                              -0.078011           -0.037840   \n",
              "no_change_periods               -0.241888           -0.790010   \n",
              "tot_repo_comm_absent             0.906295            0.342801   \n",
              "total_repo_comm_new              1.000000            0.412603   \n",
              "agg_absent_periods               0.412603            1.000000   \n",
              "new_ppl_periods                  0.351329            0.692484   \n",
              "avg_multi_ratio                  0.097904            0.226549   \n",
              "\n",
              "                      new_ppl_periods  avg_multi_ratio  \n",
              "ID                          -0.066486        -0.005215  \n",
              "no_change_periods           -0.674546        -0.105021  \n",
              "tot_repo_comm_absent         0.255752         0.092222  \n",
              "total_repo_comm_new          0.351329         0.097904  \n",
              "agg_absent_periods           0.692484         0.226549  \n",
              "new_ppl_periods              1.000000         0.102516  \n",
              "avg_multi_ratio              0.102516         1.000000  "
            ]
          },
          "metadata": {
            "tags": []
          },
          "execution_count": 50
        }
      ]
    },
    {
      "cell_type": "code",
      "metadata": {
        "id": "n3ajhBei5UwI"
      },
      "source": [
        "df_0 = df[df[\"y\"] == \"no_signs\"]\n",
        "df_1 = df[df[\"y\"] == \"disengaged\"]"
      ],
      "execution_count": null,
      "outputs": []
    },
    {
      "cell_type": "code",
      "metadata": {
        "id": "42Ae3YWR5hDE",
        "colab": {
          "base_uri": "https://localhost:8080/",
          "height": 34
        },
        "outputId": "95565c34-e9c0-4356-bed4-9b964d4b1b72"
      },
      "source": [
        "df_0.shape\n"
      ],
      "execution_count": null,
      "outputs": [
        {
          "output_type": "execute_result",
          "data": {
            "text/plain": [
              "(774466, 12)"
            ]
          },
          "metadata": {
            "tags": []
          },
          "execution_count": 52
        }
      ]
    },
    {
      "cell_type": "code",
      "metadata": {
        "id": "tsHPblCl5isn",
        "colab": {
          "base_uri": "https://localhost:8080/",
          "height": 34
        },
        "outputId": "1c608882-be49-4ee5-c4ef-bfdd3d48d267"
      },
      "source": [
        "df_1.shape"
      ],
      "execution_count": null,
      "outputs": [
        {
          "output_type": "execute_result",
          "data": {
            "text/plain": [
              "(274070, 12)"
            ]
          },
          "metadata": {
            "tags": []
          },
          "execution_count": 53
        }
      ]
    },
    {
      "cell_type": "code",
      "metadata": {
        "id": "HFF3cd0m5UyE",
        "colab": {
          "base_uri": "https://localhost:8080/",
          "height": 1000
        },
        "outputId": "34a38343-b9f8-47cb-a861-882f49d77c9e"
      },
      "source": [
        "from matplotlib import pyplot\n",
        "plt.style.use('ggplot')\n",
        "\n",
        "for col in df.select_dtypes(exclude=['object']).columns.tolist(): \n",
        "\n",
        "  x = df_0[col]\n",
        "  y = df_1[col]\n",
        "  pyplot.hist(x, alpha=0.5, label='no_signs')\n",
        "  pyplot.hist(y, alpha=0.5, label='possibly_disengaged')\n",
        "  pyplot.legend(loc='upper right')\n",
        "  pyplot.xlabel(\"Value\")\n",
        "  pyplot.ylabel(\"Count\")\n",
        "  pyplot.title(col)\n",
        "  pyplot.show()"
      ],
      "execution_count": null,
      "outputs": [
        {
          "output_type": "display_data",
          "data": {
            "image/png": "[encoded data removed]",
            "text/plain": [
              "<Figure size 432x288 with 1 Axes>"
            ]
          },
          "metadata": {
            "tags": []
          }
        },
        {
          "output_type": "display_data",
          "data": {
            "image/png": "[encoded data removed]",
            "text/plain": [
              "<Figure size 432x288 with 1 Axes>"
            ]
          },
          "metadata": {
            "tags": []
          }
        },
        {
          "output_type": "display_data",
          "data": {
            "image/png": "[encoded data removed]",
            "text/plain": [
              "<Figure size 432x288 with 1 Axes>"
            ]
          },
          "metadata": {
            "tags": []
          }
        },
        {
          "output_type": "display_data",
          "data": {
            "image/png": "[encoded data removed]",
            "text/plain": [
              "<Figure size 432x288 with 1 Axes>"
            ]
          },
          "metadata": {
            "tags": []
          }
        },
        {
          "output_type": "display_data",
          "data": {
            "image/png": "[encoded data removed]",
            "text/plain": [
              "<Figure size 432x288 with 1 Axes>"
            ]
          },
          "metadata": {
            "tags": []
          }
        },
        {
          "output_type": "display_data",
          "data": {
            "image/png": "[encoded data removed]",
            "text/plain": [
              "<Figure size 432x288 with 1 Axes>"
            ]
          },
          "metadata": {
            "tags": []
          }
        },
        {
          "output_type": "display_data",
          "data": {
            "image/png": "[encoded data removed]",
            "text/plain": [
              "<Figure size 432x288 with 1 Axes>"
            ]
          },
          "metadata": {
            "tags": []
          }
        }
      ]
    },
    {
      "cell_type": "markdown",
      "metadata": {
        "id": "aTHgIxIDT9YS"
      },
      "source": [
        "## Group Level Analysis"
      ]
    },
    {
      "cell_type": "code",
      "metadata": {
        "id": "B28J_0-drl0X",
        "colab": {
          "base_uri": "https://localhost:8080/",
          "height": 70
        },
        "outputId": "15fa9255-2672-456a-8ed4-4c2af0d46491"
      },
      "source": [
        "df[\"y\"].value_counts()"
      ],
      "execution_count": null,
      "outputs": [
        {
          "output_type": "execute_result",
          "data": {
            "text/plain": [
              "no_signs      774466\n",
              "disengaged    274070\n",
              "Name: y, dtype: int64"
            ]
          },
          "metadata": {
            "tags": []
          },
          "execution_count": 55
        }
      ]
    },
    {
      "cell_type": "code",
      "metadata": {
        "id": "hnneWxaf_vTh",
        "colab": {
          "base_uri": "https://localhost:8080/",
          "height": 212
        },
        "outputId": "47ee3e31-0592-49c4-d77f-ec3d46b87248"
      },
      "source": [
        "x = df[df[\"avg_multi_ratio\"] > 0.8]\n",
        "y = x[\"y\"].value_counts().sort_index(ascending = True)\n",
        "z=y.values[0]\n",
        "print(y)\n",
        "print(z)\n",
        "print(\"Percent of Disengaged within Subset is\", round(z/x.shape[0] *100,0))\n",
        "print(\"\")\n",
        "x = df[df[\"avg_multi_ratio\"] < 0.2]\n",
        "y = x[\"y\"].value_counts().sort_index(ascending = True)\n",
        "z=y.values[0]\n",
        "print(y)\n",
        "print(z)\n",
        "print(\"Percent of Disengaged within Subset is\", round(z/x.shape[0] *100,0))\n"
      ],
      "execution_count": null,
      "outputs": [
        {
          "output_type": "stream",
          "text": [
            "disengaged    124840\n",
            "no_signs      348375\n",
            "Name: y, dtype: int64\n",
            "124840\n",
            "Percent of Disengaged within Subset is 26.0\n",
            "\n",
            "disengaged     55773\n",
            "no_signs      224911\n",
            "Name: y, dtype: int64\n",
            "55773\n",
            "Percent of Disengaged within Subset is 20.0\n"
          ],
          "name": "stdout"
        }
      ]
    },
    {
      "cell_type": "code",
      "metadata": {
        "id": "wwW4zjJR3EaR",
        "colab": {
          "base_uri": "https://localhost:8080/",
          "height": 87
        },
        "outputId": "a47d9bfc-5360-406b-848c-6d8912c26338"
      },
      "source": [
        "df.columns"
      ],
      "execution_count": null,
      "outputs": [
        {
          "output_type": "execute_result",
          "data": {
            "text/plain": [
              "Index(['ID', 'committer_name', 'committer_timestamp', 'repo_names', 'repo_org',\n",
              "       'no_change_periods', 'tot_repo_comm_absent', 'total_repo_comm_new',\n",
              "       'agg_absent_periods', 'new_ppl_periods', 'avg_multi_ratio', 'y'],\n",
              "      dtype='object')"
            ]
          },
          "metadata": {
            "tags": []
          },
          "execution_count": 57
        }
      ]
    },
    {
      "cell_type": "code",
      "metadata": {
        "id": "4V7LczLSzRH0",
        "colab": {
          "base_uri": "https://localhost:8080/",
          "height": 212
        },
        "outputId": "6ea51006-15f3-493d-9e12-447ff85b6af6"
      },
      "source": [
        "x = df[df[\"tot_repo_comm_absent\"] > 200]\n",
        "y = x[\"y\"].value_counts().sort_index(ascending = True)\n",
        "z=y.values[0]\n",
        "print(y)\n",
        "print(z)\n",
        "print(\"Percent of Disengaged within Subset is\", round(z/x.shape[0] *100,0))\n",
        "print(\"\")\n",
        "x = df[df[\"tot_repo_comm_absent\"] < 100]\n",
        "y = x[\"y\"].value_counts().sort_index(ascending = True)\n",
        "z=y.values[0]\n",
        "print(y)\n",
        "print(z)\n",
        "print(\"Percent of Disengaged within Subset is\", round(z/x.shape[0] *100,0))"
      ],
      "execution_count": null,
      "outputs": [
        {
          "output_type": "stream",
          "text": [
            "disengaged    20434\n",
            "no_signs      73657\n",
            "Name: y, dtype: int64\n",
            "20434\n",
            "Percent of Disengaged within Subset is 22.0\n",
            "\n",
            "disengaged    220772\n",
            "no_signs      617058\n",
            "Name: y, dtype: int64\n",
            "220772\n",
            "Percent of Disengaged within Subset is 26.0\n"
          ],
          "name": "stdout"
        }
      ]
    },
    {
      "cell_type": "code",
      "metadata": {
        "id": "peqwgPLYzRJ0",
        "colab": {
          "base_uri": "https://localhost:8080/",
          "height": 212
        },
        "outputId": "28d8af0b-e0b4-4053-db23-19de299f3f50"
      },
      "source": [
        "x = df[df[\"total_repo_comm_new\"] > 40]\n",
        "y = x[\"y\"].value_counts().sort_index(ascending = True)\n",
        "z=y.values[0]\n",
        "print(y)\n",
        "print(z)\n",
        "print(\"Percent of Disengaged within Subset is\", round(z/x.shape[0] *100,0))\n",
        "print(\"\")\n",
        "x = df[df[\"total_repo_comm_new\"] < 20]\n",
        "y = x[\"y\"].value_counts().sort_index(ascending = True)\n",
        "z=y.values[0]\n",
        "print(y)\n",
        "print(z)\n",
        "print(\"Percent of Disengaged within Subset is\", round(z/x.shape[0] *100,0))"
      ],
      "execution_count": null,
      "outputs": [
        {
          "output_type": "stream",
          "text": [
            "disengaged    28999\n",
            "no_signs      57918\n",
            "Name: y, dtype: int64\n",
            "28999\n",
            "Percent of Disengaged within Subset is 33.0\n",
            "\n",
            "disengaged    180517\n",
            "no_signs      503952\n",
            "Name: y, dtype: int64\n",
            "180517\n",
            "Percent of Disengaged within Subset is 26.0\n"
          ],
          "name": "stdout"
        }
      ]
    },
    {
      "cell_type": "code",
      "metadata": {
        "id": "eKlq8fqSzRSA",
        "colab": {
          "base_uri": "https://localhost:8080/",
          "height": 212
        },
        "outputId": "94778bc7-a4ab-46c1-ff7f-92cdd295ae28"
      },
      "source": [
        "x = df[df[\"agg_absent_periods\"] > 4]\n",
        "y = x[\"y\"].value_counts().sort_index(ascending = True)\n",
        "z=y.values[0]\n",
        "print(y)\n",
        "print(z)\n",
        "print(\"Percent of Disengaged within Subset is\", round(z/x.shape[0] *100,0))\n",
        "print(\"\")\n",
        "x = df[df[\"agg_absent_periods\"] < 2]\n",
        "y = x[\"y\"].value_counts().sort_index(ascending = True)\n",
        "z=y.values[0]\n",
        "print(y)\n",
        "print(z)\n",
        "print(\"Percent of Disengaged within Subset is\", round(z/x.shape[0] *100,0))"
      ],
      "execution_count": null,
      "outputs": [
        {
          "output_type": "stream",
          "text": [
            "disengaged    207220\n",
            "no_signs      600362\n",
            "Name: y, dtype: int64\n",
            "207220\n",
            "Percent of Disengaged within Subset is 26.0\n",
            "\n",
            "disengaged     4270\n",
            "no_signs      12356\n",
            "Name: y, dtype: int64\n",
            "4270\n",
            "Percent of Disengaged within Subset is 26.0\n"
          ],
          "name": "stdout"
        }
      ]
    },
    {
      "cell_type": "code",
      "metadata": {
        "id": "P-DJa1tkuAks",
        "colab": {
          "base_uri": "https://localhost:8080/",
          "height": 212
        },
        "outputId": "f7b440d8-ba34-4aad-9d30-69306c891ebc"
      },
      "source": [
        "x = df[df[\"new_ppl_periods\"] > 4]\n",
        "y = x[\"y\"].value_counts().sort_index(ascending = True)\n",
        "z=y.values[0]\n",
        "print(y)\n",
        "print(z)\n",
        "print(\"Percent of Disengaged within Subset is\", round(z/x.shape[0] *100,0))\n",
        "print(\"\")\n",
        "x = df[df[\"new_ppl_periods\"] < 3]\n",
        "y = x[\"y\"].value_counts().sort_index(ascending = True)\n",
        "z=y.values[0]\n",
        "print(y)\n",
        "print(z)\n",
        "print(\"Percent of Disengaged within Subset is\", round(z/x.shape[0] *100,0))"
      ],
      "execution_count": null,
      "outputs": [
        {
          "output_type": "stream",
          "text": [
            "disengaged     56147\n",
            "no_signs      165038\n",
            "Name: y, dtype: int64\n",
            "56147\n",
            "Percent of Disengaged within Subset is 25.0\n",
            "\n",
            "disengaged    23570\n",
            "no_signs      55307\n",
            "Name: y, dtype: int64\n",
            "23570\n",
            "Percent of Disengaged within Subset is 30.0\n"
          ],
          "name": "stdout"
        }
      ]
    },
    {
      "cell_type": "code",
      "metadata": {
        "id": "H-VezCV44GTl",
        "colab": {
          "base_uri": "https://localhost:8080/",
          "height": 87
        },
        "outputId": "9e9506e3-f772-4e17-f731-e767ac8b1fc0"
      },
      "source": [
        "df.columns"
      ],
      "execution_count": null,
      "outputs": [
        {
          "output_type": "execute_result",
          "data": {
            "text/plain": [
              "Index(['ID', 'committer_name', 'committer_timestamp', 'repo_names', 'repo_org',\n",
              "       'no_change_periods', 'tot_repo_comm_absent', 'total_repo_comm_new',\n",
              "       'agg_absent_periods', 'new_ppl_periods', 'avg_multi_ratio', 'y'],\n",
              "      dtype='object')"
            ]
          },
          "metadata": {
            "tags": []
          },
          "execution_count": 62
        }
      ]
    },
    {
      "cell_type": "code",
      "metadata": {
        "id": "aHdfUOR02-wP",
        "colab": {
          "base_uri": "https://localhost:8080/",
          "height": 212
        },
        "outputId": "d3054505-961f-47bf-9ca4-775ace9807c8"
      },
      "source": [
        "x = df[df[\"no_change_periods\"] > 3]\n",
        "y = x[\"y\"].value_counts().sort_index(ascending = True)\n",
        "z=y.values[0]\n",
        "print(y)\n",
        "print(z)\n",
        "print(\"Percent of Disengaged within Subset is\", round(z/x.shape[0] *100,0))\n",
        "print(\"\")\n",
        "x = df[df[\"no_change_periods\"] < 2]\n",
        "y = x[\"y\"].value_counts().sort_index(ascending = True)\n",
        "z=y.values[0]\n",
        "print(y)\n",
        "print(z)\n",
        "print(\"Percent of Disengaged within Subset is\", round(z/x.shape[0] *100,0))"
      ],
      "execution_count": null,
      "outputs": [
        {
          "output_type": "stream",
          "text": [
            "disengaged    3939\n",
            "no_signs      8381\n",
            "Name: y, dtype: int64\n",
            "3939\n",
            "Percent of Disengaged within Subset is 32.0\n",
            "\n",
            "disengaged    265137\n",
            "no_signs      752437\n",
            "Name: y, dtype: int64\n",
            "265137\n",
            "Percent of Disengaged within Subset is 26.0\n"
          ],
          "name": "stdout"
        }
      ]
    },
    {
      "cell_type": "code",
      "metadata": {
        "id": "3hj_n-uM_vbw",
        "colab": {
          "base_uri": "https://localhost:8080/",
          "height": 34
        },
        "outputId": "60151769-8eec-4c30-c1bf-bedcad99f709"
      },
      "source": [
        "df[\"repo_names\"].nunique()"
      ],
      "execution_count": null,
      "outputs": [
        {
          "output_type": "execute_result",
          "data": {
            "text/plain": [
              "409"
            ]
          },
          "metadata": {
            "tags": []
          },
          "execution_count": 64
        }
      ]
    },
    {
      "cell_type": "code",
      "metadata": {
        "id": "KJLnEQYhoiXV",
        "colab": {
          "base_uri": "https://localhost:8080/",
          "height": 34
        },
        "outputId": "1c3b156d-1043-417a-fb52-fd33f0e47cc9"
      },
      "source": [
        "df[\"committer_name\"].nunique()"
      ],
      "execution_count": null,
      "outputs": [
        {
          "output_type": "execute_result",
          "data": {
            "text/plain": [
              "7165"
            ]
          },
          "metadata": {
            "tags": []
          },
          "execution_count": 65
        }
      ]
    },
    {
      "cell_type": "code",
      "metadata": {
        "id": "O6PZOCaSuJ5t",
        "colab": {
          "base_uri": "https://localhost:8080/",
          "height": 287
        },
        "outputId": "514d7e99-12f4-4421-b62e-6b165eb7093b"
      },
      "source": [
        "df.describe()"
      ],
      "execution_count": null,
      "outputs": [
        {
          "output_type": "execute_result",
          "data": {
            "text/html": [
              "<div>\n",
              "<style scoped>\n",
              "    .dataframe tbody tr th:only-of-type {\n",
              "        vertical-align: middle;\n",
              "    }\n",
              "\n",
              "    .dataframe tbody tr th {\n",
              "        vertical-align: top;\n",
              "    }\n",
              "\n",
              "    .dataframe thead th {\n",
              "        text-align: right;\n",
              "    }\n",
              "</style>\n",
              "<table border=\"1\" class=\"dataframe\">\n",
              "  <thead>\n",
              "    <tr style=\"text-align: right;\">\n",
              "      <th></th>\n",
              "      <th>ID</th>\n",
              "      <th>no_change_periods</th>\n",
              "      <th>tot_repo_comm_absent</th>\n",
              "      <th>total_repo_comm_new</th>\n",
              "      <th>agg_absent_periods</th>\n",
              "      <th>new_ppl_periods</th>\n",
              "      <th>avg_multi_ratio</th>\n",
              "    </tr>\n",
              "  </thead>\n",
              "  <tbody>\n",
              "    <tr>\n",
              "      <th>count</th>\n",
              "      <td>1.048536e+06</td>\n",
              "      <td>1.048536e+06</td>\n",
              "      <td>1.048536e+06</td>\n",
              "      <td>1.048536e+06</td>\n",
              "      <td>1.048536e+06</td>\n",
              "      <td>1.048536e+06</td>\n",
              "      <td>1.048536e+06</td>\n",
              "    </tr>\n",
              "    <tr>\n",
              "      <th>mean</th>\n",
              "      <td>5.242685e+05</td>\n",
              "      <td>1.363692e-01</td>\n",
              "      <td>7.117791e+01</td>\n",
              "      <td>1.872016e+01</td>\n",
              "      <td>4.620672e+00</td>\n",
              "      <td>3.878121e+00</td>\n",
              "      <td>5.875170e-01</td>\n",
              "    </tr>\n",
              "    <tr>\n",
              "      <th>std</th>\n",
              "      <td>3.026864e+05</td>\n",
              "      <td>5.942536e-01</td>\n",
              "      <td>7.997708e+01</td>\n",
              "      <td>1.629770e+01</td>\n",
              "      <td>8.330083e-01</td>\n",
              "      <td>9.449973e-01</td>\n",
              "      <td>3.979032e-01</td>\n",
              "    </tr>\n",
              "    <tr>\n",
              "      <th>min</th>\n",
              "      <td>1.000000e+00</td>\n",
              "      <td>0.000000e+00</td>\n",
              "      <td>0.000000e+00</td>\n",
              "      <td>0.000000e+00</td>\n",
              "      <td>0.000000e+00</td>\n",
              "      <td>0.000000e+00</td>\n",
              "      <td>0.000000e+00</td>\n",
              "    </tr>\n",
              "    <tr>\n",
              "      <th>25%</th>\n",
              "      <td>2.621348e+05</td>\n",
              "      <td>0.000000e+00</td>\n",
              "      <td>2.100000e+01</td>\n",
              "      <td>7.000000e+00</td>\n",
              "      <td>5.000000e+00</td>\n",
              "      <td>4.000000e+00</td>\n",
              "      <td>1.666667e-01</td>\n",
              "    </tr>\n",
              "    <tr>\n",
              "      <th>50%</th>\n",
              "      <td>5.242685e+05</td>\n",
              "      <td>0.000000e+00</td>\n",
              "      <td>4.100000e+01</td>\n",
              "      <td>1.400000e+01</td>\n",
              "      <td>5.000000e+00</td>\n",
              "      <td>4.000000e+00</td>\n",
              "      <td>6.666667e-01</td>\n",
              "    </tr>\n",
              "    <tr>\n",
              "      <th>75%</th>\n",
              "      <td>7.864022e+05</td>\n",
              "      <td>0.000000e+00</td>\n",
              "      <td>7.600000e+01</td>\n",
              "      <td>2.700000e+01</td>\n",
              "      <td>5.000000e+00</td>\n",
              "      <td>4.000000e+00</td>\n",
              "      <td>1.000000e+00</td>\n",
              "    </tr>\n",
              "    <tr>\n",
              "      <th>max</th>\n",
              "      <td>1.048536e+06</td>\n",
              "      <td>5.000000e+00</td>\n",
              "      <td>3.900000e+02</td>\n",
              "      <td>8.600000e+01</td>\n",
              "      <td>5.000000e+00</td>\n",
              "      <td>5.000000e+00</td>\n",
              "      <td>1.000000e+00</td>\n",
              "    </tr>\n",
              "  </tbody>\n",
              "</table>\n",
              "</div>"
            ],
            "text/plain": [
              "                 ID  no_change_periods  tot_repo_comm_absent  \\\n",
              "count  1.048536e+06       1.048536e+06          1.048536e+06   \n",
              "mean   5.242685e+05       1.363692e-01          7.117791e+01   \n",
              "std    3.026864e+05       5.942536e-01          7.997708e+01   \n",
              "min    1.000000e+00       0.000000e+00          0.000000e+00   \n",
              "25%    2.621348e+05       0.000000e+00          2.100000e+01   \n",
              "50%    5.242685e+05       0.000000e+00          4.100000e+01   \n",
              "75%    7.864022e+05       0.000000e+00          7.600000e+01   \n",
              "max    1.048536e+06       5.000000e+00          3.900000e+02   \n",
              "\n",
              "       total_repo_comm_new  agg_absent_periods  new_ppl_periods  \\\n",
              "count         1.048536e+06        1.048536e+06     1.048536e+06   \n",
              "mean          1.872016e+01        4.620672e+00     3.878121e+00   \n",
              "std           1.629770e+01        8.330083e-01     9.449973e-01   \n",
              "min           0.000000e+00        0.000000e+00     0.000000e+00   \n",
              "25%           7.000000e+00        5.000000e+00     4.000000e+00   \n",
              "50%           1.400000e+01        5.000000e+00     4.000000e+00   \n",
              "75%           2.700000e+01        5.000000e+00     4.000000e+00   \n",
              "max           8.600000e+01        5.000000e+00     5.000000e+00   \n",
              "\n",
              "       avg_multi_ratio  \n",
              "count     1.048536e+06  \n",
              "mean      5.875170e-01  \n",
              "std       3.979032e-01  \n",
              "min       0.000000e+00  \n",
              "25%       1.666667e-01  \n",
              "50%       6.666667e-01  \n",
              "75%       1.000000e+00  \n",
              "max       1.000000e+00  "
            ]
          },
          "metadata": {
            "tags": []
          },
          "execution_count": 66
        }
      ]
    }
  ]
}